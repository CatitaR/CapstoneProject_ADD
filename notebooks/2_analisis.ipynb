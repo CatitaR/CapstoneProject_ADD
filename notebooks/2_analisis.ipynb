{
 "cells": [
  {
   "cell_type": "code",
   "execution_count": 16,
   "id": "b056c14e",
   "metadata": {},
   "outputs": [],
   "source": [
    "import pandas as pd\n",
    "import numpy as np\n",
    "import os\n",
    "import statsmodels.api as sm\n",
    "import statsmodels.formula.api as smf\n",
    "import matplotlib.pyplot as plt\n",
    "import numpy as np"
   ]
  },
  {
   "cell_type": "code",
   "execution_count": 2,
   "id": "a7e0ddeb",
   "metadata": {},
   "outputs": [],
   "source": [
    "data_total = pd.read_csv('https://raw.githubusercontent.com/CatitaR/CapstoneProject_ADD/main/data/processed/base_analisis.csv')\n",
    "data_rm = pd.read_csv('https://raw.githubusercontent.com/CatitaR/CapstoneProject_ADD/main/data/processed/base_analisis_rm.csv')\n",
    "data_otras = pd.read_csv('https://raw.githubusercontent.com/CatitaR/CapstoneProject_ADD/main/data/processed/base_analisis_otras.csv')"
   ]
  },
  {
   "cell_type": "code",
   "execution_count": 7,
   "id": "d979a008",
   "metadata": {},
   "outputs": [
    {
     "data": {
      "text/html": [
       "<div>\n",
       "<style scoped>\n",
       "    .dataframe tbody tr th:only-of-type {\n",
       "        vertical-align: middle;\n",
       "    }\n",
       "\n",
       "    .dataframe tbody tr th {\n",
       "        vertical-align: top;\n",
       "    }\n",
       "\n",
       "    .dataframe thead th {\n",
       "        text-align: right;\n",
       "    }\n",
       "</style>\n",
       "<table border=\"1\" class=\"dataframe\">\n",
       "  <thead>\n",
       "    <tr style=\"text-align: right;\">\n",
       "      <th></th>\n",
       "      <th>tasa_def</th>\n",
       "      <th>prop_rural</th>\n",
       "      <th>etnia</th>\n",
       "      <th>ingreso</th>\n",
       "      <th>tasa_denuncias</th>\n",
       "    </tr>\n",
       "  </thead>\n",
       "  <tbody>\n",
       "    <tr>\n",
       "      <th>tasa_def</th>\n",
       "      <td>1.000000</td>\n",
       "      <td>0.333822</td>\n",
       "      <td>0.273611</td>\n",
       "      <td>-0.265321</td>\n",
       "      <td>-0.155897</td>\n",
       "    </tr>\n",
       "    <tr>\n",
       "      <th>prop_rural</th>\n",
       "      <td>0.333822</td>\n",
       "      <td>1.000000</td>\n",
       "      <td>0.311531</td>\n",
       "      <td>-0.383921</td>\n",
       "      <td>-0.291506</td>\n",
       "    </tr>\n",
       "    <tr>\n",
       "      <th>etnia</th>\n",
       "      <td>0.273611</td>\n",
       "      <td>0.311531</td>\n",
       "      <td>1.000000</td>\n",
       "      <td>-0.137925</td>\n",
       "      <td>-0.174545</td>\n",
       "    </tr>\n",
       "    <tr>\n",
       "      <th>ingreso</th>\n",
       "      <td>-0.265321</td>\n",
       "      <td>-0.383921</td>\n",
       "      <td>-0.137925</td>\n",
       "      <td>1.000000</td>\n",
       "      <td>0.312979</td>\n",
       "    </tr>\n",
       "    <tr>\n",
       "      <th>tasa_denuncias</th>\n",
       "      <td>-0.155897</td>\n",
       "      <td>-0.291506</td>\n",
       "      <td>-0.174545</td>\n",
       "      <td>0.312979</td>\n",
       "      <td>1.000000</td>\n",
       "    </tr>\n",
       "  </tbody>\n",
       "</table>\n",
       "</div>"
      ],
      "text/plain": [
       "                tasa_def  prop_rural     etnia   ingreso  tasa_denuncias\n",
       "tasa_def        1.000000    0.333822  0.273611 -0.265321       -0.155897\n",
       "prop_rural      0.333822    1.000000  0.311531 -0.383921       -0.291506\n",
       "etnia           0.273611    0.311531  1.000000 -0.137925       -0.174545\n",
       "ingreso        -0.265321   -0.383921 -0.137925  1.000000        0.312979\n",
       "tasa_denuncias -0.155897   -0.291506 -0.174545  0.312979        1.000000"
      ]
     },
     "execution_count": 7,
     "metadata": {},
     "output_type": "execute_result"
    }
   ],
   "source": [
    "data_total[['tasa_def','prop_rural','etnia','ingreso','tasa_denuncias']].corr()"
   ]
  },
  {
   "cell_type": "code",
   "execution_count": 8,
   "id": "bd70c998",
   "metadata": {},
   "outputs": [
    {
     "data": {
      "text/html": [
       "<div>\n",
       "<style scoped>\n",
       "    .dataframe tbody tr th:only-of-type {\n",
       "        vertical-align: middle;\n",
       "    }\n",
       "\n",
       "    .dataframe tbody tr th {\n",
       "        vertical-align: top;\n",
       "    }\n",
       "\n",
       "    .dataframe thead th {\n",
       "        text-align: right;\n",
       "    }\n",
       "</style>\n",
       "<table border=\"1\" class=\"dataframe\">\n",
       "  <thead>\n",
       "    <tr style=\"text-align: right;\">\n",
       "      <th></th>\n",
       "      <th>tasa_def</th>\n",
       "      <th>prop_rural</th>\n",
       "      <th>etnia</th>\n",
       "      <th>ingreso</th>\n",
       "      <th>tasa_denuncias</th>\n",
       "    </tr>\n",
       "  </thead>\n",
       "  <tbody>\n",
       "    <tr>\n",
       "      <th>tasa_def</th>\n",
       "      <td>1.000000</td>\n",
       "      <td>0.088934</td>\n",
       "      <td>0.386770</td>\n",
       "      <td>-0.523736</td>\n",
       "      <td>-0.077334</td>\n",
       "    </tr>\n",
       "    <tr>\n",
       "      <th>prop_rural</th>\n",
       "      <td>0.088934</td>\n",
       "      <td>1.000000</td>\n",
       "      <td>-0.125432</td>\n",
       "      <td>-0.217116</td>\n",
       "      <td>-0.232757</td>\n",
       "    </tr>\n",
       "    <tr>\n",
       "      <th>etnia</th>\n",
       "      <td>0.386770</td>\n",
       "      <td>-0.125432</td>\n",
       "      <td>1.000000</td>\n",
       "      <td>-0.427525</td>\n",
       "      <td>-0.172136</td>\n",
       "    </tr>\n",
       "    <tr>\n",
       "      <th>ingreso</th>\n",
       "      <td>-0.523736</td>\n",
       "      <td>-0.217116</td>\n",
       "      <td>-0.427525</td>\n",
       "      <td>1.000000</td>\n",
       "      <td>0.213438</td>\n",
       "    </tr>\n",
       "    <tr>\n",
       "      <th>tasa_denuncias</th>\n",
       "      <td>-0.077334</td>\n",
       "      <td>-0.232757</td>\n",
       "      <td>-0.172136</td>\n",
       "      <td>0.213438</td>\n",
       "      <td>1.000000</td>\n",
       "    </tr>\n",
       "  </tbody>\n",
       "</table>\n",
       "</div>"
      ],
      "text/plain": [
       "                tasa_def  prop_rural     etnia   ingreso  tasa_denuncias\n",
       "tasa_def        1.000000    0.088934  0.386770 -0.523736       -0.077334\n",
       "prop_rural      0.088934    1.000000 -0.125432 -0.217116       -0.232757\n",
       "etnia           0.386770   -0.125432  1.000000 -0.427525       -0.172136\n",
       "ingreso        -0.523736   -0.217116 -0.427525  1.000000        0.213438\n",
       "tasa_denuncias -0.077334   -0.232757 -0.172136  0.213438        1.000000"
      ]
     },
     "execution_count": 8,
     "metadata": {},
     "output_type": "execute_result"
    }
   ],
   "source": [
    "data_rm[['tasa_def','prop_rural','etnia','ingreso','tasa_denuncias']].corr()"
   ]
  },
  {
   "cell_type": "code",
   "execution_count": 9,
   "id": "239d00b9",
   "metadata": {},
   "outputs": [
    {
     "data": {
      "text/html": [
       "<div>\n",
       "<style scoped>\n",
       "    .dataframe tbody tr th:only-of-type {\n",
       "        vertical-align: middle;\n",
       "    }\n",
       "\n",
       "    .dataframe tbody tr th {\n",
       "        vertical-align: top;\n",
       "    }\n",
       "\n",
       "    .dataframe thead th {\n",
       "        text-align: right;\n",
       "    }\n",
       "</style>\n",
       "<table border=\"1\" class=\"dataframe\">\n",
       "  <thead>\n",
       "    <tr style=\"text-align: right;\">\n",
       "      <th></th>\n",
       "      <th>tasa_def</th>\n",
       "      <th>prop_rural</th>\n",
       "      <th>etnia</th>\n",
       "      <th>ingreso</th>\n",
       "      <th>tasa_denuncias</th>\n",
       "    </tr>\n",
       "  </thead>\n",
       "  <tbody>\n",
       "    <tr>\n",
       "      <th>tasa_def</th>\n",
       "      <td>1.000000</td>\n",
       "      <td>0.286528</td>\n",
       "      <td>0.237881</td>\n",
       "      <td>-0.225657</td>\n",
       "      <td>-0.126749</td>\n",
       "    </tr>\n",
       "    <tr>\n",
       "      <th>prop_rural</th>\n",
       "      <td>0.286528</td>\n",
       "      <td>1.000000</td>\n",
       "      <td>0.290781</td>\n",
       "      <td>-0.494263</td>\n",
       "      <td>-0.255537</td>\n",
       "    </tr>\n",
       "    <tr>\n",
       "      <th>etnia</th>\n",
       "      <td>0.237881</td>\n",
       "      <td>0.290781</td>\n",
       "      <td>1.000000</td>\n",
       "      <td>-0.089675</td>\n",
       "      <td>-0.191956</td>\n",
       "    </tr>\n",
       "    <tr>\n",
       "      <th>ingreso</th>\n",
       "      <td>-0.225657</td>\n",
       "      <td>-0.494263</td>\n",
       "      <td>-0.089675</td>\n",
       "      <td>1.000000</td>\n",
       "      <td>0.253904</td>\n",
       "    </tr>\n",
       "    <tr>\n",
       "      <th>tasa_denuncias</th>\n",
       "      <td>-0.126749</td>\n",
       "      <td>-0.255537</td>\n",
       "      <td>-0.191956</td>\n",
       "      <td>0.253904</td>\n",
       "      <td>1.000000</td>\n",
       "    </tr>\n",
       "  </tbody>\n",
       "</table>\n",
       "</div>"
      ],
      "text/plain": [
       "                tasa_def  prop_rural     etnia   ingreso  tasa_denuncias\n",
       "tasa_def        1.000000    0.286528  0.237881 -0.225657       -0.126749\n",
       "prop_rural      0.286528    1.000000  0.290781 -0.494263       -0.255537\n",
       "etnia           0.237881    0.290781  1.000000 -0.089675       -0.191956\n",
       "ingreso        -0.225657   -0.494263 -0.089675  1.000000        0.253904\n",
       "tasa_denuncias -0.126749   -0.255537 -0.191956  0.253904        1.000000"
      ]
     },
     "execution_count": 9,
     "metadata": {},
     "output_type": "execute_result"
    }
   ],
   "source": [
    "data_otras[['tasa_def','prop_rural','etnia','ingreso','tasa_denuncias']].corr()"
   ]
  },
  {
   "cell_type": "code",
   "execution_count": 10,
   "id": "7d106e30",
   "metadata": {},
   "outputs": [
    {
     "name": "stdout",
     "output_type": "stream",
     "text": [
      "                            OLS Regression Results                            \n",
      "==============================================================================\n",
      "Dep. Variable:               tasa_def   R-squared:                       0.070\n",
      "Model:                            OLS   Adj. R-squared:                  0.068\n",
      "Method:                 Least Squares   F-statistic:                     24.38\n",
      "Date:                Wed, 12 Oct 2022   Prob (F-statistic):           1.27e-06\n",
      "Time:                        21:32:24   Log-Likelihood:                -1508.7\n",
      "No. Observations:                 324   AIC:                             3021.\n",
      "Df Residuals:                     322   BIC:                             3029.\n",
      "Df Model:                           1                                         \n",
      "Covariance Type:            nonrobust                                         \n",
      "==============================================================================\n",
      "                 coef    std err          t      P>|t|      [0.025      0.975]\n",
      "------------------------------------------------------------------------------\n",
      "Intercept     65.4490      3.024     21.642      0.000      59.499      71.399\n",
      "ingreso    -4.616e-05   9.35e-06     -4.938      0.000   -6.45e-05   -2.78e-05\n",
      "==============================================================================\n",
      "Omnibus:                       83.775   Durbin-Watson:                   1.384\n",
      "Prob(Omnibus):                  0.000   Jarque-Bera (JB):              197.459\n",
      "Skew:                           1.258   Prob(JB):                     1.33e-43\n",
      "Kurtosis:                       5.880   Cond. No.                     6.89e+05\n",
      "==============================================================================\n",
      "\n",
      "Notes:\n",
      "[1] Standard Errors assume that the covariance matrix of the errors is correctly specified.\n",
      "[2] The condition number is large, 6.89e+05. This might indicate that there are\n",
      "strong multicollinearity or other numerical problems.\n"
     ]
    }
   ],
   "source": [
    "mod1 = smf.ols(formula='tasa_def ~ ingreso', data=data_total)\n",
    "res1 = mod1.fit()\n",
    "print(res1.summary())"
   ]
  },
  {
   "cell_type": "code",
   "execution_count": 11,
   "id": "103f1403",
   "metadata": {},
   "outputs": [
    {
     "name": "stdout",
     "output_type": "stream",
     "text": [
      "                            OLS Regression Results                            \n",
      "==============================================================================\n",
      "Dep. Variable:               tasa_def   R-squared:                       0.274\n",
      "Model:                            OLS   Adj. R-squared:                  0.260\n",
      "Method:                 Least Squares   F-statistic:                     18.90\n",
      "Date:                Wed, 12 Oct 2022   Prob (F-statistic):           6.76e-05\n",
      "Time:                        21:33:08   Log-Likelihood:                -189.94\n",
      "No. Observations:                  52   AIC:                             383.9\n",
      "Df Residuals:                      50   BIC:                             387.8\n",
      "Df Model:                           1                                         \n",
      "Covariance Type:            nonrobust                                         \n",
      "==============================================================================\n",
      "                 coef    std err          t      P>|t|      [0.025      0.975]\n",
      "------------------------------------------------------------------------------\n",
      "Intercept     44.8451      2.259     19.850      0.000      40.308      49.383\n",
      "ingreso    -1.874e-05   4.31e-06     -4.347      0.000   -2.74e-05   -1.01e-05\n",
      "==============================================================================\n",
      "Omnibus:                        1.203   Durbin-Watson:                   1.905\n",
      "Prob(Omnibus):                  0.548   Jarque-Bera (JB):                1.160\n",
      "Skew:                           0.341   Prob(JB):                        0.560\n",
      "Kurtosis:                       2.733   Cond. No.                     8.97e+05\n",
      "==============================================================================\n",
      "\n",
      "Notes:\n",
      "[1] Standard Errors assume that the covariance matrix of the errors is correctly specified.\n",
      "[2] The condition number is large, 8.97e+05. This might indicate that there are\n",
      "strong multicollinearity or other numerical problems.\n"
     ]
    }
   ],
   "source": [
    "mod2 = smf.ols(formula='tasa_def ~ ingreso', data=data_rm)\n",
    "res2 = mod2.fit()\n",
    "print(res2.summary())"
   ]
  },
  {
   "cell_type": "code",
   "execution_count": 22,
   "id": "625b6d93",
   "metadata": {},
   "outputs": [
    {
     "name": "stdout",
     "output_type": "stream",
     "text": [
      "                            OLS Regression Results                            \n",
      "==============================================================================\n",
      "Dep. Variable:               tasa_def   R-squared:                       0.051\n",
      "Model:                            OLS   Adj. R-squared:                  0.047\n",
      "Method:                 Least Squares   F-statistic:                     14.49\n",
      "Date:                Wed, 12 Oct 2022   Prob (F-statistic):           0.000175\n",
      "Time:                        21:40:45   Log-Likelihood:                -1280.0\n",
      "No. Observations:                 272   AIC:                             2564.\n",
      "Df Residuals:                     270   BIC:                             2571.\n",
      "Df Model:                           1                                         \n",
      "Covariance Type:            nonrobust                                         \n",
      "==============================================================================\n",
      "                 coef    std err          t      P>|t|      [0.025      0.975]\n",
      "------------------------------------------------------------------------------\n",
      "Intercept     77.6860      6.127     12.679      0.000      65.623      89.749\n",
      "ingreso     -8.68e-05   2.28e-05     -3.806      0.000      -0.000   -4.19e-05\n",
      "==============================================================================\n",
      "Omnibus:                       54.566   Durbin-Watson:                   1.385\n",
      "Prob(Omnibus):                  0.000   Jarque-Bera (JB):              102.951\n",
      "Skew:                           1.048   Prob(JB):                     4.41e-23\n",
      "Kurtosis:                       5.166   Cond. No.                     1.01e+06\n",
      "==============================================================================\n",
      "\n",
      "Notes:\n",
      "[1] Standard Errors assume that the covariance matrix of the errors is correctly specified.\n",
      "[2] The condition number is large, 1.01e+06. This might indicate that there are\n",
      "strong multicollinearity or other numerical problems.\n"
     ]
    }
   ],
   "source": [
    "mod3 = smf.ols(formula='tasa_def ~ ingreso', data=data_otras)\n",
    "res3 = mod3.fit()\n",
    "print(res3.summary())"
   ]
  },
  {
   "cell_type": "code",
   "execution_count": 19,
   "id": "e8dfa23d",
   "metadata": {},
   "outputs": [
    {
     "name": "stdout",
     "output_type": "stream",
     "text": [
      "                            OLS Regression Results                            \n",
      "==============================================================================\n",
      "Dep. Variable:               tasa_def   R-squared:                       0.164\n",
      "Model:                            OLS   Adj. R-squared:                  0.154\n",
      "Method:                 Least Squares   F-statistic:                     15.69\n",
      "Date:                Wed, 12 Oct 2022   Prob (F-statistic):           9.79e-12\n",
      "Time:                        21:40:14   Log-Likelihood:                -1491.4\n",
      "No. Observations:                 324   AIC:                             2993.\n",
      "Df Residuals:                     319   BIC:                             3012.\n",
      "Df Model:                           4                                         \n",
      "Covariance Type:            nonrobust                                         \n",
      "==================================================================================\n",
      "                     coef    std err          t      P>|t|      [0.025      0.975]\n",
      "----------------------------------------------------------------------------------\n",
      "Intercept         49.4605      4.431     11.161      0.000      40.742      58.179\n",
      "ingreso        -2.675e-05    9.9e-06     -2.701      0.007   -4.62e-05   -7.27e-06\n",
      "prop_rural         0.2168      0.059      3.648      0.000       0.100       0.334\n",
      "etnia              0.2656      0.078      3.392      0.001       0.112       0.420\n",
      "tasa_denuncias    -0.0002      0.001     -0.244      0.808      -0.002       0.002\n",
      "==============================================================================\n",
      "Omnibus:                       69.643   Durbin-Watson:                   1.453\n",
      "Prob(Omnibus):                  0.000   Jarque-Bera (JB):              245.084\n",
      "Skew:                           0.898   Prob(JB):                     6.03e-54\n",
      "Kurtosis:                       6.864   Cond. No.                     1.06e+06\n",
      "==============================================================================\n",
      "\n",
      "Notes:\n",
      "[1] Standard Errors assume that the covariance matrix of the errors is correctly specified.\n",
      "[2] The condition number is large, 1.06e+06. This might indicate that there are\n",
      "strong multicollinearity or other numerical problems.\n"
     ]
    }
   ],
   "source": [
    "mod4 = smf.ols(formula='tasa_def ~ ingreso + prop_rural + etnia + tasa_denuncias', data=data_total)\n",
    "res4 = mod4.fit()\n",
    "params4 = res4.params\n",
    "print(res4.summary())"
   ]
  },
  {
   "cell_type": "code",
   "execution_count": 20,
   "id": "b76d6c29",
   "metadata": {},
   "outputs": [
    {
     "name": "stdout",
     "output_type": "stream",
     "text": [
      "                            OLS Regression Results                            \n",
      "==============================================================================\n",
      "Dep. Variable:               tasa_def   R-squared:                       0.311\n",
      "Model:                            OLS   Adj. R-squared:                  0.252\n",
      "Method:                 Least Squares   F-statistic:                     5.291\n",
      "Date:                Wed, 12 Oct 2022   Prob (F-statistic):            0.00133\n",
      "Time:                        21:40:25   Log-Likelihood:                -188.61\n",
      "No. Observations:                  52   AIC:                             387.2\n",
      "Df Residuals:                      47   BIC:                             397.0\n",
      "Df Model:                           4                                         \n",
      "Covariance Type:            nonrobust                                         \n",
      "==================================================================================\n",
      "                     coef    std err          t      P>|t|      [0.025      0.975]\n",
      "----------------------------------------------------------------------------------\n",
      "Intercept         38.2487      5.120      7.470      0.000      27.948      48.550\n",
      "ingreso        -1.565e-05   5.05e-06     -3.101      0.003   -2.58e-05    -5.5e-06\n",
      "prop_rural         0.0184      0.069      0.267      0.790      -0.120       0.157\n",
      "etnia              0.6713      0.437      1.536      0.131      -0.208       1.551\n",
      "tasa_denuncias     0.0002      0.000      0.478      0.635      -0.001       0.001\n",
      "==============================================================================\n",
      "Omnibus:                        1.369   Durbin-Watson:                   1.849\n",
      "Prob(Omnibus):                  0.504   Jarque-Bera (JB):                1.213\n",
      "Skew:                           0.364   Prob(JB):                        0.545\n",
      "Kurtosis:                       2.827   Cond. No.                     2.03e+06\n",
      "==============================================================================\n",
      "\n",
      "Notes:\n",
      "[1] Standard Errors assume that the covariance matrix of the errors is correctly specified.\n",
      "[2] The condition number is large, 2.03e+06. This might indicate that there are\n",
      "strong multicollinearity or other numerical problems.\n"
     ]
    }
   ],
   "source": [
    "mod5 = smf.ols(formula='tasa_def ~ ingreso + prop_rural + etnia + tasa_denuncias', data=data_rm)\n",
    "res5 = mod5.fit()\n",
    "params5 = res5.params\n",
    "print(res5.summary())"
   ]
  },
  {
   "cell_type": "code",
   "execution_count": 21,
   "id": "308cfbe5",
   "metadata": {},
   "outputs": [
    {
     "name": "stdout",
     "output_type": "stream",
     "text": [
      "                            OLS Regression Results                            \n",
      "==============================================================================\n",
      "Dep. Variable:               tasa_def   R-squared:                       0.120\n",
      "Model:                            OLS   Adj. R-squared:                  0.107\n",
      "Method:                 Least Squares   F-statistic:                     9.107\n",
      "Date:                Wed, 12 Oct 2022   Prob (F-statistic):           6.55e-07\n",
      "Time:                        21:40:33   Log-Likelihood:                -1269.7\n",
      "No. Observations:                 272   AIC:                             2549.\n",
      "Df Residuals:                     267   BIC:                             2567.\n",
      "Df Model:                           4                                         \n",
      "Covariance Type:            nonrobust                                         \n",
      "==================================================================================\n",
      "                     coef    std err          t      P>|t|      [0.025      0.975]\n",
      "----------------------------------------------------------------------------------\n",
      "Intercept         57.3517      8.693      6.597      0.000      40.236      74.468\n",
      "ingreso        -4.632e-05   2.58e-05     -1.795      0.074   -9.71e-05    4.47e-06\n",
      "prop_rural         0.1884      0.076      2.477      0.014       0.039       0.338\n",
      "etnia              0.2441      0.085      2.858      0.005       0.076       0.412\n",
      "tasa_denuncias    -0.0005      0.002     -0.313      0.754      -0.004       0.003\n",
      "==============================================================================\n",
      "Omnibus:                       48.230   Durbin-Watson:                   1.457\n",
      "Prob(Omnibus):                  0.000   Jarque-Bera (JB):              129.120\n",
      "Skew:                           0.797   Prob(JB):                     9.16e-29\n",
      "Kurtosis:                       5.975   Cond. No.                     1.48e+06\n",
      "==============================================================================\n",
      "\n",
      "Notes:\n",
      "[1] Standard Errors assume that the covariance matrix of the errors is correctly specified.\n",
      "[2] The condition number is large, 1.48e+06. This might indicate that there are\n",
      "strong multicollinearity or other numerical problems.\n"
     ]
    }
   ],
   "source": [
    "mod6 = smf.ols(formula='tasa_def ~ ingreso + prop_rural + etnia + tasa_denuncias', data=data_otras)\n",
    "res6 = mod6.fit()\n",
    "params6 = res6.params\n",
    "print(res6.summary())"
   ]
  },
  {
   "cell_type": "code",
   "execution_count": 24,
   "id": "df00827c",
   "metadata": {},
   "outputs": [
    {
     "data": {
      "text/plain": [
       "Text(0.5, 1.0, 'Regresión de tasa de defunciones por causas externas en función de ingresos')"
      ]
     },
     "execution_count": 24,
     "metadata": {},
     "output_type": "execute_result"
    },
    {
     "data": {
      "image/png": "[encoded data removed]",
      "text/plain": [
       "<Figure size 576x432 with 1 Axes>"
      ]
     },
     "metadata": {
      "needs_background": "light"
     },
     "output_type": "display_data"
    }
   ],
   "source": [
    "fig, ax = plt.subplots(figsize=(8, 6))\n",
    "\n",
    "ax.plot(data_total['ingreso'], data_total['tasa_def'], \"o\", label=\"Data\")\n",
    "ax.plot(data_total['ingreso'], params4['Intercept']+params4['ingreso']*data_total['ingreso']  , \"r-\", label=\"Predicted\")\n",
    "ax.set_ylabel(\"Tasa de defunciones por causas externas\")\n",
    "ax.set_xlabel(\"Promedio ingreso per cápita\")\n",
    "ax.set_title(\"Regresión de tasa de defunciones por causas externas en función de ingresos\")\n"
   ]
  },
  {
   "cell_type": "code",
   "execution_count": 26,
   "id": "b89f95c0",
   "metadata": {},
   "outputs": [
    {
     "data": {
      "text/plain": [
       "Text(0.5, 1.0, 'Regresión de tasa de defunciones por causas externas en función de ingresos')"
      ]
     },
     "execution_count": 26,
     "metadata": {},
     "output_type": "execute_result"
    },
    {
     "data": {
      "image/png": "[encoded data removed]",
      "text/plain": [
       "<Figure size 576x432 with 1 Axes>"
      ]
     },
     "metadata": {
      "needs_background": "light"
     },
     "output_type": "display_data"
    }
   ],
   "source": [
    "fig, ax = plt.subplots(figsize=(8, 6))\n",
    "\n",
    "ax.plot(data_rm['ingreso'], data_rm['tasa_def'], \"o\", label=\"Data\")\n",
    "ax.plot(data_rm['ingreso'], params5['Intercept']+params5['ingreso']*data_rm['ingreso']  , \"r-\", label=\"Predicted\")\n",
    "ax.set_ylabel(\"Tasa de defunciones por causas externas\")\n",
    "ax.set_xlabel(\"Promedio ingreso per cápita\")\n",
    "ax.set_title(\"Regresión de tasa de defunciones por causas externas en función de ingresos (RM)\")\n"
   ]
  },
  {
   "cell_type": "code",
   "execution_count": 27,
   "id": "c05422a5",
   "metadata": {
    "scrolled": true
   },
   "outputs": [
    {
     "data": {
      "text/plain": [
       "Text(0.5, 1.0, 'Regresión de tasa de defunciones por causas externas en función de ingresos (resto del país)')"
      ]
     },
     "execution_count": 27,
     "metadata": {},
     "output_type": "execute_result"
    },
    {
     "data": {
      "image/png": "[encoded data removed]",
      "text/plain": [
       "<Figure size 576x432 with 1 Axes>"
      ]
     },
     "metadata": {
      "needs_background": "light"
     },
     "output_type": "display_data"
    }
   ],
   "source": [
    "fig, ax = plt.subplots(figsize=(8, 6))\n",
    "\n",
    "ax.plot(data_otras['ingreso'], data_otras['tasa_def'], \"o\", label=\"Data\")\n",
    "ax.plot(data_otras['ingreso'], params6['Intercept']+params6['ingreso']*data_otras['ingreso']  , \"r-\", label=\"Predicted\")\n",
    "ax.set_ylabel(\"Tasa de defunciones por causas externas\")\n",
    "ax.set_xlabel(\"Promedio ingreso per cápita\")\n",
    "ax.set_title(\"Regresión de tasa de defunciones por causas externas en función de ingresos (resto del país)\")\n"
   ]
  },
  {
   "cell_type": "code",
   "execution_count": 36,
   "id": "d3f7e125",
   "metadata": {},
   "outputs": [],
   "source": [
    "data_rm['tasa_def_log'] = np.log(data_rm['tasa_def'])\n",
    "data_rm['ingreso_log'] = np.log(data_rm['ingreso'])"
   ]
  },
  {
   "cell_type": "code",
   "execution_count": 39,
   "id": "a0e9549e",
   "metadata": {},
   "outputs": [
    {
     "name": "stdout",
     "output_type": "stream",
     "text": [
      "                            OLS Regression Results                            \n",
      "==============================================================================\n",
      "Dep. Variable:           tasa_def_log   R-squared:                       0.448\n",
      "Model:                            OLS   Adj. R-squared:                  0.401\n",
      "Method:                 Least Squares   F-statistic:                     9.540\n",
      "Date:                Thu, 13 Oct 2022   Prob (F-statistic):           9.90e-06\n",
      "Time:                        19:08:20   Log-Likelihood:                 1.2842\n",
      "No. Observations:                  52   AIC:                             7.432\n",
      "Df Residuals:                      47   BIC:                             17.19\n",
      "Df Model:                           4                                         \n",
      "Covariance Type:            nonrobust                                         \n",
      "==================================================================================\n",
      "                     coef    std err          t      P>|t|      [0.025      0.975]\n",
      "----------------------------------------------------------------------------------\n",
      "Intercept          8.8637      1.162      7.625      0.000       6.525      11.202\n",
      "ingreso_log       -0.4211      0.088     -4.811      0.000      -0.597      -0.245\n",
      "prop_rural        -0.0007      0.002     -0.371      0.712      -0.004       0.003\n",
      "etnia              0.0118      0.011      1.025      0.310      -0.011       0.035\n",
      "tasa_denuncias   8.31e-06   1.27e-05      0.652      0.517   -1.73e-05    3.39e-05\n",
      "==============================================================================\n",
      "Omnibus:                        0.445   Durbin-Watson:                   1.821\n",
      "Prob(Omnibus):                  0.801   Jarque-Bera (JB):                0.588\n",
      "Skew:                          -0.059   Prob(JB):                        0.745\n",
      "Kurtosis:                       2.492   Cond. No.                     1.39e+05\n",
      "==============================================================================\n",
      "\n",
      "Notes:\n",
      "[1] Standard Errors assume that the covariance matrix of the errors is correctly specified.\n",
      "[2] The condition number is large, 1.39e+05. This might indicate that there are\n",
      "strong multicollinearity or other numerical problems.\n"
     ]
    }
   ],
   "source": [
    "mod7 = smf.ols(formula='tasa_def_log ~ ingreso_log + prop_rural + etnia + tasa_denuncias', data=data_rm)\n",
    "res7 = mod7.fit()\n",
    "params7 = res7.params\n",
    "print(res7.summary())"
   ]
  },
  {
   "cell_type": "code",
   "execution_count": 41,
   "id": "f61964f1",
   "metadata": {
    "scrolled": true
   },
   "outputs": [
    {
     "data": {
      "text/plain": [
       "Text(0.5, 1.0, 'Regresión de tasa de defunciones por causas externas en función de ingresos (RM)')"
      ]
     },
     "execution_count": 41,
     "metadata": {},
     "output_type": "execute_result"
    },
    {
     "data": {
      "image/png": "[encoded data removed]",
      "text/plain": [
       "<Figure size 576x432 with 1 Axes>"
      ]
     },
     "metadata": {
      "needs_background": "light"
     },
     "output_type": "display_data"
    }
   ],
   "source": [
    "fig, ax = plt.subplots(figsize=(8, 6))\n",
    "\n",
    "ax.plot(data_rm['ingreso_log'], data_rm['tasa_def_log'], \"o\", label=\"Data\")\n",
    "ax.plot(data_rm['ingreso_log'], params7['Intercept']+params7['ingreso_log']*data_rm['ingreso_log']  , \"r-\", label=\"Predicted\")\n",
    "ax.set_ylabel(\"Tasa de defunciones por causas externas\")\n",
    "ax.set_xlabel(\"Promedio ingreso per cápita\")\n",
    "ax.set_title(\"Regresión de tasa de defunciones por causas externas en función de ingresos (RM)\\nTransformación logarítmica\")\n"
   ]
  },
  {
   "cell_type": "code",
   "execution_count": 45,
   "id": "2d9f38bb",
   "metadata": {},
   "outputs": [],
   "source": [
    "# base code\n",
    "import numpy as np\n",
    "import seaborn as sns\n",
    "import statsmodels\n",
    "from statsmodels.tools.tools import maybe_unwrap_results\n",
    "from statsmodels.graphics.gofplots import ProbPlot\n",
    "from statsmodels.stats.outliers_influence import variance_inflation_factor\n",
    "import matplotlib.pyplot as plt\n",
    "from typing import Type\n",
    "\n",
    "style_talk = 'seaborn-talk'    #refer to plt.style.available\n",
    "\n",
    "class Linear_Reg_Diagnostic():\n",
    "    \"\"\"\n",
    "    Diagnostic plots to identify potential problems in a linear regression fit.\n",
    "    Mainly,\n",
    "        a. non-linearity of data\n",
    "        b. Correlation of error terms\n",
    "        c. non-constant variance \n",
    "        d. outliers\n",
    "        e. high-leverage points\n",
    "        f. collinearity\n",
    "\n",
    "    Author:\n",
    "        Prajwal Kafle (p33ajkafle@gmail.com, where 3 = r)\n",
    "        Does not come with any sort of warranty. \n",
    "        Please test the code one your end before using.\n",
    "    \"\"\"\n",
    "\n",
    "    def __init__(self, \n",
    "                 results: Type[statsmodels.regression.linear_model.RegressionResultsWrapper]) -> None:\n",
    "        \"\"\"\n",
    "        For a linear regression model, generates following diagnostic plots:\n",
    "\n",
    "        a. residual\n",
    "        b. qq\n",
    "        c. scale location and\n",
    "        d. leverage\n",
    "\n",
    "        and a table\n",
    "\n",
    "        e. vif\n",
    "\n",
    "        Args:\n",
    "            results (Type[statsmodels.regression.linear_model.RegressionResultsWrapper]): \n",
    "                must be instance of statsmodels.regression.linear_model object\n",
    "\n",
    "        Raises:\n",
    "            TypeError: if instance does not belong to above object\n",
    "\n",
    "        Example:\n",
    "        >>> import numpy as np\n",
    "        >>> import pandas as pd\n",
    "        >>> import statsmodels.formula.api as smf\n",
    "        >>> x = np.linspace(-np.pi, np.pi, 100)\n",
    "        >>> y = 3*x + 8 + np.random.normal(0,1, 100)\n",
    "        >>> df = pd.DataFrame({'x':x, 'y':y})\n",
    "        >>> res = smf.ols(formula= \"y ~ x\", data=df).fit()\n",
    "        >>> cls = Linear_Reg_Diagnostic(res)\n",
    "        >>> cls(plot_context=\"seaborn-paper\")     \n",
    "\n",
    "        In case you do not need all plots you can also independently make an individual plot/table\n",
    "        in following ways\n",
    "\n",
    "        >>> cls = Linear_Reg_Diagnostic(res)\n",
    "        >>> cls.residual_plot()\n",
    "        >>> cls.qq_plot()\n",
    "        >>> cls.scale_location_plot()\n",
    "        >>> cls.leverage_plot()\n",
    "        >>> cls.vif_table()\n",
    "        \"\"\"\n",
    "\n",
    "        if isinstance(results, statsmodels.regression.linear_model.RegressionResultsWrapper) is False:\n",
    "            raise TypeError(\"result must be instance of statsmodels.regression.linear_model.RegressionResultsWrapper object\")\n",
    "\n",
    "        self.results = maybe_unwrap_results(results)\n",
    "\n",
    "        self.y_true = self.results.model.endog\n",
    "        self.y_predict = self.results.fittedvalues\n",
    "        self.xvar = self.results.model.exog\n",
    "        self.xvar_names = self.results.model.exog_names\n",
    "\n",
    "        self.residual = np.array(self.results.resid)\n",
    "        influence = self.results.get_influence()\n",
    "        self.residual_norm = influence.resid_studentized_internal\n",
    "        self.leverage = influence.hat_matrix_diag\n",
    "        self.cooks_distance = influence.cooks_distance[0]\n",
    "        self.nparams = len(self.results.params)\n",
    "\n",
    "    def __call__(self, plot_context='seaborn-paper'):\n",
    "        # print(plt.style.available)\n",
    "        with plt.style.context(plot_context):\n",
    "            fig, ax = plt.subplots(nrows=2, ncols=2, figsize=(10,10))\n",
    "            self.residual_plot(ax=ax[0,0])\n",
    "            self.qq_plot(ax=ax[0,1])\n",
    "            self.scale_location_plot(ax=ax[1,0])\n",
    "            self.leverage_plot(ax=ax[1,1])\n",
    "            plt.show()\n",
    "        \n",
    "        self.vif_table()\n",
    "        return fig, ax\n",
    "\n",
    "\n",
    "    def residual_plot(self, ax=None):\n",
    "        \"\"\"\n",
    "        Residual vs Fitted Plot\n",
    "\n",
    "        Graphical tool to identify non-linearity.\n",
    "        (Roughly) Horizontal red line is an indicator that the residual has a linear pattern\n",
    "        \"\"\"\n",
    "        if ax is None:\n",
    "            fig, ax = plt.subplots()\n",
    "\n",
    "        sns.residplot(\n",
    "            x=self.y_predict, \n",
    "            y=self.residual, \n",
    "            lowess=True,\n",
    "            scatter_kws={'alpha': 0.5},\n",
    "            line_kws={'color': 'red', 'lw': 1, 'alpha': 0.8}, \n",
    "            ax=ax)\n",
    "\n",
    "        # annotations\n",
    "        residual_abs = np.abs(self.residual)\n",
    "        abs_resid = np.flip(np.sort(residual_abs))\n",
    "        abs_resid_top_3 = abs_resid[:3]\n",
    "        for i, _ in enumerate(abs_resid_top_3):\n",
    "            ax.annotate(\n",
    "                i, \n",
    "                xy=(self.y_predict[i], self.residual[i]), \n",
    "                color='C3')\n",
    "\n",
    "        ax.set_title('Residuals vs Fitted', fontweight=\"bold\")\n",
    "        ax.set_xlabel('Fitted values')\n",
    "        ax.set_ylabel('Residuals')\n",
    "        return ax\n",
    "\n",
    "    def qq_plot(self, ax=None):\n",
    "        \"\"\"\n",
    "        Standarized Residual vs Theoretical Quantile plot\n",
    "\n",
    "        Used to visually check if residuals are normally distributed.\n",
    "        Points spread along the diagonal line will suggest so.\n",
    "        \"\"\"\n",
    "        if ax is None:\n",
    "            fig, ax = plt.subplots()\n",
    "        \n",
    "        QQ = ProbPlot(self.residual_norm)\n",
    "        QQ.qqplot(line='45', alpha=0.5, lw=1, ax=ax)\n",
    "\n",
    "        # annotations\n",
    "        abs_norm_resid = np.flip(np.argsort(np.abs(self.residual_norm)), 0)\n",
    "        abs_norm_resid_top_3 = abs_norm_resid[:3]\n",
    "        for r, i in enumerate(abs_norm_resid_top_3):\n",
    "            ax.annotate(\n",
    "                i, \n",
    "                xy=(np.flip(QQ.theoretical_quantiles, 0)[r], self.residual_norm[i]), \n",
    "                ha='right', color='C3')\n",
    "\n",
    "        ax.set_title('Normal Q-Q', fontweight=\"bold\")\n",
    "        ax.set_xlabel('Theoretical Quantiles')\n",
    "        ax.set_ylabel('Standardized Residuals')\n",
    "        return ax\n",
    "  \n",
    "    def scale_location_plot(self, ax=None):\n",
    "        \"\"\"\n",
    "        Sqrt(Standarized Residual) vs Fitted values plot\n",
    "\n",
    "        Used to check homoscedasticity of the residuals.\n",
    "        Horizontal line will suggest so.\n",
    "        \"\"\"\n",
    "        if ax is None:\n",
    "            fig, ax = plt.subplots()\n",
    "\n",
    "        residual_norm_abs_sqrt = np.sqrt(np.abs(self.residual_norm))\n",
    "\n",
    "        ax.scatter(self.y_predict, residual_norm_abs_sqrt, alpha=0.5);\n",
    "        sns.regplot(\n",
    "            x=self.y_predict, \n",
    "            y=residual_norm_abs_sqrt,\n",
    "            scatter=False, ci=False,\n",
    "            lowess=True,\n",
    "            line_kws={'color': 'red', 'lw': 1, 'alpha': 0.8}, \n",
    "            ax=ax)\n",
    "\n",
    "        # annotations\n",
    "        abs_sq_norm_resid = np.flip(np.argsort(residual_norm_abs_sqrt), 0)\n",
    "        abs_sq_norm_resid_top_3 = abs_sq_norm_resid[:3]\n",
    "        for i in abs_sq_norm_resid_top_3:\n",
    "            ax.annotate(\n",
    "                i, \n",
    "                xy=(self.y_predict[i], residual_norm_abs_sqrt[i]), \n",
    "                color='C3')\n",
    "        ax.set_title('Scale-Location', fontweight=\"bold\")\n",
    "        ax.set_xlabel('Fitted values')\n",
    "        ax.set_ylabel(r'$\\sqrt{|\\mathrm{Standardized\\ Residuals}|}$');\n",
    "        return ax\n",
    "\n",
    "    def leverage_plot(self, ax=None):\n",
    "        \"\"\"\n",
    "        Residual vs Leverage plot\n",
    "\n",
    "        Points falling outside Cook's distance curves are considered observation that can sway the fit\n",
    "        aka are influential.\n",
    "        Good to have none outside the curves.\n",
    "        \"\"\"\n",
    "        if ax is None:\n",
    "            fig, ax = plt.subplots()\n",
    "\n",
    "        ax.scatter(\n",
    "            self.leverage, \n",
    "            self.residual_norm, \n",
    "            alpha=0.5);\n",
    "        \n",
    "        sns.regplot(\n",
    "            x=self.leverage, \n",
    "            y=self.residual_norm,\n",
    "            scatter=False,\n",
    "            ci=False,\n",
    "            lowess=True,\n",
    "            line_kws={'color': 'red', 'lw': 1, 'alpha': 0.8},\n",
    "            ax=ax)\n",
    "\n",
    "        # annotations\n",
    "        leverage_top_3 = np.flip(np.argsort(self.cooks_distance), 0)[:3]\n",
    "        for i in leverage_top_3:\n",
    "            ax.annotate(\n",
    "                i, \n",
    "                xy=(self.leverage[i], self.residual_norm[i]),\n",
    "                color = 'C3')\n",
    "\n",
    "        xtemp, ytemp = self.__cooks_dist_line(0.5) # 0.5 line\n",
    "        ax.plot(xtemp, ytemp, label=\"Cook's distance\", lw=1, ls='--', color='red')\n",
    "        xtemp, ytemp = self.__cooks_dist_line(1) # 1 line\n",
    "        ax.plot(xtemp, ytemp, lw=1, ls='--', color='red')\n",
    "        \n",
    "        ax.set_xlim(0, max(self.leverage)+0.01)\n",
    "        ax.set_title('Residuals vs Leverage', fontweight=\"bold\")\n",
    "        ax.set_xlabel('Leverage')\n",
    "        ax.set_ylabel('Standardized Residuals')\n",
    "        ax.legend(loc='upper right')\n",
    "        return ax\n",
    "\n",
    "    def vif_table(self):\n",
    "        \"\"\"\n",
    "        VIF table\n",
    "\n",
    "        VIF, the variance inflation factor, is a measure of multicollinearity.\n",
    "        VIF > 5 for a variable indicates that it is highly collinear with the \n",
    "        other input variables.\n",
    "        \"\"\"\n",
    "        vif_df = pd.DataFrame()\n",
    "        vif_df[\"Features\"] = self.xvar_names\n",
    "        vif_df[\"VIF Factor\"] = [variance_inflation_factor(self.xvar, i) for i in range(self.xvar.shape[1])]\n",
    "\n",
    "        print(vif_df\n",
    "                .sort_values(\"VIF Factor\")\n",
    "                .round(2))\n",
    "        \n",
    "\n",
    "    def __cooks_dist_line(self, factor):\n",
    "        \"\"\"\n",
    "        Helper function for plotting Cook's distance curves\n",
    "        \"\"\"\n",
    "        p = self.nparams \n",
    "        formula = lambda x: np.sqrt((factor * p * (1 - x)) / x)\n",
    "        x = np.linspace(0.001, max(self.leverage), 50)\n",
    "        y = formula(x)\n",
    "        return x, y"
   ]
  },
  {
   "cell_type": "code",
   "execution_count": 47,
   "id": "4dab95b4",
   "metadata": {},
   "outputs": [],
   "source": [
    "cls = Linear_Reg_Diagnostic(res7)"
   ]
  },
  {
   "cell_type": "code",
   "execution_count": 48,
   "id": "9ead7b5e",
   "metadata": {},
   "outputs": [
    {
     "data": {
      "image/png": "[encoded data removed]",
      "text/plain": [
       "<Figure size 432x288 with 1 Axes>"
      ]
     },
     "metadata": {
      "needs_background": "light"
     },
     "output_type": "display_data"
    }
   ],
   "source": [
    "cls.residual_plot();"
   ]
  },
  {
   "cell_type": "code",
   "execution_count": null,
   "id": "9b63710b",
   "metadata": {},
   "outputs": [],
   "source": []
  },
  {
   "cell_type": "code",
   "execution_count": null,
   "id": "82c57f39",
   "metadata": {},
   "outputs": [],
   "source": []
  }
 ],
 "metadata": {
  "kernelspec": {
   "display_name": "Python 3 (ipykernel)",
   "language": "python",
   "name": "python3"
  },
  "language_info": {
   "codemirror_mode": {
    "name": "ipython",
    "version": 3
   },
   "file_extension": ".py",
   "mimetype": "text/x-python",
   "name": "python",
   "nbconvert_exporter": "python",
   "pygments_lexer": "ipython3",
   "version": "3.9.12"
  }
 },
 "nbformat": 4,
 "nbformat_minor": 5
}
