{
 "cells": [
  {
   "cell_type": "markdown",
   "id": "ea1f61ca",
   "metadata": {},
   "source": [
    "*Análisis y limpieza de Datos*<br>\n",
    "*Magister y Diplomado en Data Science*\n",
    "# Análisis de los factores asociados a la tasa de mortalidad por traumatismos\n",
    "**Profesor:** Victor Landaeta<br>\n",
    "**Estudiantes:** <br>Catalina Quijada<br>Claudia Fernandino<br>Patricio Céspedes"
   ]
  },
  {
   "cell_type": "markdown",
   "id": "1f49b8ef",
   "metadata": {},
   "source": [
    "## Introducción\n",
    "Uno de los principales ámbitos de estudio en salud pública son los Determinantes Sociales de la Salud (DSS), definidos por la OMS como \"las condiciones de vida que son causa de buena parte de las inequidades sanitarias entre los países y dentro de cada país\" (OMS, 2009). Estudios anteriores (Bilal, Alazraqui, Caiaffa, Lopez-Olmedo, Martinez-Folgar, Miranda, et. al., 2019) han mostrado que los habitantes de las comunas de mayores ingresos de la Región Metropolitana tienen una mayor esperanza de vida que aquellos de comunas de menores ingresos, de modo que es interesante analizar si esas diferencias en la esperanza de vida se asocian a su vez a diferentes causas de muerte. Una de las principales causas de muertes a temprana y mediana edad actualmente en Chile tiene relación con los 'traumatismos, envenenamientos y otras consecuencias de causas externas' (en adelante, traumatismos), por lo que surge la interrogante respecto a si existen diferencias en la tasa de mortalidad según nivel socioeconómico de la comuna.<br>Sin embargo, también es necesario analizar qué ocurre en el resto de las regiones del país, ya que en estas no existe una asociación tan clara con el nivel socioeconómico, por lo que es posible que existan otros factores que incidan en la tasa de mortalidad. En este sentido, otras variables que podrían influir son la proporción de población rural, proporción de población que se identifica con un pueblo originario, tasa de denuncia de delitos de mayor connotación social y tiempo promedio en minutos al hospital o clínica más cercana a la entidad rural.<br>La pregunta que se espera responder es ¿existe asociación entre el nivel socioeconómico y la tasa de mortalidad por traumatismos, en la Región Metropolitana y el resto de las regiones de Chile? La hipótesis es que a mayor nivel socioeconómico de la comuna, menor es la tasa de mortalidad por traumatismos. Respecto a las otras variables, se espera que a mayor tasa de población rural la tasa de mortalidad por traumatismos sea mayor, ya que esto podría dificultar el acceso a centros asistenciales y, por ende, este tipo de situaciones es más probable que termine en muerte. En cuanto a la proporción de población que se identifica con un pueblo originario, la hipótesis es que en la medida que aumenta este indicador, aumenta la tasa de mortalidad por traumatismos, lo cual podría deberse a la existencia de factores culturales que devengan en una mayor aprensión a ciertos tratamientos. Por otra parte, se espera que una mayor tasa de denuncias de delitos de mayor connotación social se asocie a una mayor tasa de defunciones por traumatismos, debido a que las personas que viven en estas comunas están expuestas a un ambiente más violento y, por ende, a una mayor probabilidad de morir por estos motivos. Por último, respecto a la variable tiempo promedio en minutos al hospital o clínica más cercana a la localidad rural, se espera que la mortalidad por traumatismos sea mayor en aquellas comunas en que el tiempo de traslado sea mayor."
   ]
  },
  {
   "cell_type": "code",
   "execution_count": 1,
   "id": "9303492c",
   "metadata": {},
   "outputs": [],
   "source": [
    "import pandas as pd\n",
    "import numpy as np\n",
    "import os\n",
    "import statsmodels.api as sm\n",
    "import statsmodels.formula.api as smf\n",
    "import matplotlib.pyplot as plt\n",
    "import numpy as np\n",
    "import seaborn as sns\n",
    "import statsmodels\n",
    "from statsmodels.tools.tools import maybe_unwrap_results\n",
    "from statsmodels.graphics.gofplots import ProbPlot\n",
    "from statsmodels.stats.outliers_influence import variance_inflation_factor\n",
    "from typing import Type"
   ]
  },
  {
   "cell_type": "markdown",
   "id": "b8ea9c1e",
   "metadata": {},
   "source": [
    "## Metodología\n",
    "La unidad de análisis del estudio es la comuna. Cuenta con representatividad a nivel nacional, aunque se excluyen aquellas para las cuales no se cuenta con información en Casen 2017. Estas son: Isla de Pascua, Cochamó, Chaitén, Futaleufú, Hualaihué, Primavera, Colchane, Ollagüe, Juan Fernández, Palena, Lago Verde, Guaitecas, O'Higgins, Tortel, Laguna Blanca, Río Verde, San Gregorio, Cabo de Hornos, Antártica, Timaukel, Torres del Paine y General Lagos.<br> Los datos sobre muertes por traumatismos se obtuvieron de la página web del [DEIS](https://deis.minsal.cl/), la cual cuenta con información desde 2016 a 2021 sobre las muertes ocurridas y sus respectivas causas. Se decidió trabajar con el año 2017, ya que para estimar el promedio de ingresos por comuna y la proporción de población que se identifica con un pueblo originario es necesario utilizar la Encuesta Casen, cuyas últimas versiones son 2017 y 2020. Sin embargo, si bien lo más lógico sería utilizar la versión más reciente, en el año 2020 la mortalidad está fuertemente influenciada por la pandemia de Covid-19, la cual llegó a ser la primera causa de muerte en Chile, por lo que, al ser un año atípico, las tasas de mortalidad podrían estar influenciadas por este fenómeno y, por lo tanto, los resultados podrían no reflejar la asociación entre las variables que se desean estudiar. Cabe mencionar que la Encuesta Casen cuenta con diversos indicadores de ingresos, sin embargo, se utiliza el promedio per cápita autónomo del hogar, el cual controla por el número de miembros del hogar y, al no incluir subsidios ni otras ayudas del Estado, refleja de mejor forma los ingresos que producen las personas de forma independiente. Por otro lado, para calcular la tasa de mortalidad se debe contar con el tamaño de la población, la cual se obtuvo de las proyecciones de población realizadas por el [INE](https://www.ine.cl/estadisticas/sociales/demografia-y-vitales/proyecciones-de-poblacion). Esta información también se utilizó para calcular la proporción de población rural dentro de la comuna. En relación a la tasa de denuncias de delitos de mayor connotación social, esta se obtuvo de la página web de la [Biblioteca del Congreso Nacional](https://www.bcn.cl/siit/estadisticasterritoriales/tema?id=63), mientras que el tiempo promedio en minutos al hospital o clínica más cercano es un indicador calculado por el INE y que forma parte del [Sistema de Indicadores de Calidad de Vida Rural](https://www.ine.cl/herramientas/portal-de-mapas/sicvir).<br> El análisis de los datos se divide en dos partes. En primer lugar, se realiza un análisis descriptivo para explorar la correlación entre la variable a explicar (tasa de mortalidad por traumatismos) y las explicativas (promedio de ingresos por hogar, proporción de población rural, proporción de personas que se identifica con un pueblo originario y tasa de denuncia de delitos de mayor connotación social). En segundo lugar, se estiman modelos de regresión simple y múltiple, para indagar más en la asociación entre las variables. En ambos casos, el análisis se realiza a nivel nacional, y luego de forma separada para las comunas de la Región Metropolitana y el resto de las comunas, con la finalidad de explorar si la asociación entre las variables analizadas es diferente en ambos grupos de comunas."
   ]
  },
  {
   "cell_type": "code",
   "execution_count": 2,
   "id": "c8d37e6b",
   "metadata": {},
   "outputs": [],
   "source": [
    "data_total = pd.read_csv('https://raw.githubusercontent.com/CatitaR/CapstoneProject_ADD/main/data/processed/base_analisis.csv')\n",
    "data_rm = pd.read_csv('https://raw.githubusercontent.com/CatitaR/CapstoneProject_ADD/main/data/processed/base_analisis_rm.csv')\n",
    "data_otras = pd.read_csv('https://raw.githubusercontent.com/CatitaR/CapstoneProject_ADD/main/data/processed/base_analisis_otras.csv')\n",
    "data_otras2 = pd.read_csv('https://raw.githubusercontent.com/CatitaR/CapstoneProject_ADD/main/data/processed/base_analisis_otras2.csv')"
   ]
  },
  {
   "cell_type": "markdown",
   "id": "c6b9e020",
   "metadata": {},
   "source": [
    "## Resultados\n",
    "### Análisis descriptivo\n",
    "En la siguiente tabla se observa la matriz de correlación entre las variables a analizar, para todas las comunas del país. Entre la tasa de defunciones por traumatismos y la proporción de población rural, existe una correlación positiva, la cual llega a 0.33. Algo similar ocurre entre la tasa de defunciones por traumatismos y la proporción de población que se identifica con un pueblo originario, cuya correlación es de 0.27. Por otro lado, entre la tasa de defunciones y los ingresos la correlación es negativa, con un coeficiente de -0.26, mientras que respecto a la tasa de denuncias de delitos de mayor connotación social se observa la misma tendencia, aunque la correlación es más suave (-0.15)."
   ]
  },
  {
   "cell_type": "code",
   "execution_count": 3,
   "id": "7a60bea6",
   "metadata": {
    "scrolled": true
   },
   "outputs": [
    {
     "data": {
      "text/html": [
       "<div>\n",
       "<style scoped>\n",
       "    .dataframe tbody tr th:only-of-type {\n",
       "        vertical-align: middle;\n",
       "    }\n",
       "\n",
       "    .dataframe tbody tr th {\n",
       "        vertical-align: top;\n",
       "    }\n",
       "\n",
       "    .dataframe thead th {\n",
       "        text-align: right;\n",
       "    }\n",
       "</style>\n",
       "<table border=\"1\" class=\"dataframe\">\n",
       "  <thead>\n",
       "    <tr style=\"text-align: right;\">\n",
       "      <th></th>\n",
       "      <th>tasa_def</th>\n",
       "      <th>prop_rural</th>\n",
       "      <th>etnia</th>\n",
       "      <th>ingreso</th>\n",
       "      <th>tasa_denuncias</th>\n",
       "    </tr>\n",
       "  </thead>\n",
       "  <tbody>\n",
       "    <tr>\n",
       "      <th>tasa_def</th>\n",
       "      <td>1.000000</td>\n",
       "      <td>0.333822</td>\n",
       "      <td>0.273611</td>\n",
       "      <td>-0.265321</td>\n",
       "      <td>-0.155897</td>\n",
       "    </tr>\n",
       "    <tr>\n",
       "      <th>prop_rural</th>\n",
       "      <td>0.333822</td>\n",
       "      <td>1.000000</td>\n",
       "      <td>0.311531</td>\n",
       "      <td>-0.383921</td>\n",
       "      <td>-0.291506</td>\n",
       "    </tr>\n",
       "    <tr>\n",
       "      <th>etnia</th>\n",
       "      <td>0.273611</td>\n",
       "      <td>0.311531</td>\n",
       "      <td>1.000000</td>\n",
       "      <td>-0.137925</td>\n",
       "      <td>-0.174545</td>\n",
       "    </tr>\n",
       "    <tr>\n",
       "      <th>ingreso</th>\n",
       "      <td>-0.265321</td>\n",
       "      <td>-0.383921</td>\n",
       "      <td>-0.137925</td>\n",
       "      <td>1.000000</td>\n",
       "      <td>0.312979</td>\n",
       "    </tr>\n",
       "    <tr>\n",
       "      <th>tasa_denuncias</th>\n",
       "      <td>-0.155897</td>\n",
       "      <td>-0.291506</td>\n",
       "      <td>-0.174545</td>\n",
       "      <td>0.312979</td>\n",
       "      <td>1.000000</td>\n",
       "    </tr>\n",
       "  </tbody>\n",
       "</table>\n",
       "</div>"
      ],
      "text/plain": [
       "                tasa_def  prop_rural     etnia   ingreso  tasa_denuncias\n",
       "tasa_def        1.000000    0.333822  0.273611 -0.265321       -0.155897\n",
       "prop_rural      0.333822    1.000000  0.311531 -0.383921       -0.291506\n",
       "etnia           0.273611    0.311531  1.000000 -0.137925       -0.174545\n",
       "ingreso        -0.265321   -0.383921 -0.137925  1.000000        0.312979\n",
       "tasa_denuncias -0.155897   -0.291506 -0.174545  0.312979        1.000000"
      ]
     },
     "execution_count": 3,
     "metadata": {},
     "output_type": "execute_result"
    }
   ],
   "source": [
    "data_total[['tasa_def','prop_rural','etnia','ingreso','tasa_denuncias']].corr()"
   ]
  },
  {
   "cell_type": "markdown",
   "id": "ee3dfb88",
   "metadata": {},
   "source": [
    "En el caso de las comunas de la Región Metropolitana, la correlación entre la tasa de defunción y la proporción de población rural es positiva, aunque muy baja. En cambio, la correlación con la etnia e ingresos siguen la misma tendencia que a nivel nacional, pero son correlaciones más fuertes, llegando a 0.39 y -0.52, respectivamente. En cuanto a la correlación con la tasa de denuncias, esta también es muy baja (-0.08)"
   ]
  },
  {
   "cell_type": "code",
   "execution_count": 4,
   "id": "78b68b4f",
   "metadata": {
    "scrolled": true
   },
   "outputs": [
    {
     "data": {
      "text/html": [
       "<div>\n",
       "<style scoped>\n",
       "    .dataframe tbody tr th:only-of-type {\n",
       "        vertical-align: middle;\n",
       "    }\n",
       "\n",
       "    .dataframe tbody tr th {\n",
       "        vertical-align: top;\n",
       "    }\n",
       "\n",
       "    .dataframe thead th {\n",
       "        text-align: right;\n",
       "    }\n",
       "</style>\n",
       "<table border=\"1\" class=\"dataframe\">\n",
       "  <thead>\n",
       "    <tr style=\"text-align: right;\">\n",
       "      <th></th>\n",
       "      <th>tasa_def</th>\n",
       "      <th>prop_rural</th>\n",
       "      <th>etnia</th>\n",
       "      <th>ingreso</th>\n",
       "      <th>tasa_denuncias</th>\n",
       "    </tr>\n",
       "  </thead>\n",
       "  <tbody>\n",
       "    <tr>\n",
       "      <th>tasa_def</th>\n",
       "      <td>1.000000</td>\n",
       "      <td>0.088934</td>\n",
       "      <td>0.386770</td>\n",
       "      <td>-0.523736</td>\n",
       "      <td>-0.077334</td>\n",
       "    </tr>\n",
       "    <tr>\n",
       "      <th>prop_rural</th>\n",
       "      <td>0.088934</td>\n",
       "      <td>1.000000</td>\n",
       "      <td>-0.125432</td>\n",
       "      <td>-0.217116</td>\n",
       "      <td>-0.232757</td>\n",
       "    </tr>\n",
       "    <tr>\n",
       "      <th>etnia</th>\n",
       "      <td>0.386770</td>\n",
       "      <td>-0.125432</td>\n",
       "      <td>1.000000</td>\n",
       "      <td>-0.427525</td>\n",
       "      <td>-0.172136</td>\n",
       "    </tr>\n",
       "    <tr>\n",
       "      <th>ingreso</th>\n",
       "      <td>-0.523736</td>\n",
       "      <td>-0.217116</td>\n",
       "      <td>-0.427525</td>\n",
       "      <td>1.000000</td>\n",
       "      <td>0.213438</td>\n",
       "    </tr>\n",
       "    <tr>\n",
       "      <th>tasa_denuncias</th>\n",
       "      <td>-0.077334</td>\n",
       "      <td>-0.232757</td>\n",
       "      <td>-0.172136</td>\n",
       "      <td>0.213438</td>\n",
       "      <td>1.000000</td>\n",
       "    </tr>\n",
       "  </tbody>\n",
       "</table>\n",
       "</div>"
      ],
      "text/plain": [
       "                tasa_def  prop_rural     etnia   ingreso  tasa_denuncias\n",
       "tasa_def        1.000000    0.088934  0.386770 -0.523736       -0.077334\n",
       "prop_rural      0.088934    1.000000 -0.125432 -0.217116       -0.232757\n",
       "etnia           0.386770   -0.125432  1.000000 -0.427525       -0.172136\n",
       "ingreso        -0.523736   -0.217116 -0.427525  1.000000        0.213438\n",
       "tasa_denuncias -0.077334   -0.232757 -0.172136  0.213438        1.000000"
      ]
     },
     "execution_count": 4,
     "metadata": {},
     "output_type": "execute_result"
    }
   ],
   "source": [
    "data_rm[['tasa_def','prop_rural','etnia','ingreso','tasa_denuncias']].corr()"
   ]
  },
  {
   "cell_type": "markdown",
   "id": "9fb74cb2",
   "metadata": {},
   "source": [
    "En el resto de las comunas del país, la correlación entre la tasa de defunción y la proporción de población es más fuerte, llegando a 0.28. En cambio, la asociación de la variable a explicar con la etnia y el promedio de ingresos y la tasa de denuncias, si bien sigue la misma tendencia que en la Región Metropolitana, el coeficiente es menor (0.24 y -0.23, respectivamente). Respecto a la tasa de denuncias, la correlación es más fuerte que en las comunas de la Región Metropolitana, pero menos que en el total país."
   ]
  },
  {
   "cell_type": "code",
   "execution_count": 5,
   "id": "4e16a482",
   "metadata": {},
   "outputs": [
    {
     "data": {
      "text/html": [
       "<div>\n",
       "<style scoped>\n",
       "    .dataframe tbody tr th:only-of-type {\n",
       "        vertical-align: middle;\n",
       "    }\n",
       "\n",
       "    .dataframe tbody tr th {\n",
       "        vertical-align: top;\n",
       "    }\n",
       "\n",
       "    .dataframe thead th {\n",
       "        text-align: right;\n",
       "    }\n",
       "</style>\n",
       "<table border=\"1\" class=\"dataframe\">\n",
       "  <thead>\n",
       "    <tr style=\"text-align: right;\">\n",
       "      <th></th>\n",
       "      <th>tasa_def</th>\n",
       "      <th>prop_rural</th>\n",
       "      <th>etnia</th>\n",
       "      <th>ingreso</th>\n",
       "      <th>tasa_denuncias</th>\n",
       "    </tr>\n",
       "  </thead>\n",
       "  <tbody>\n",
       "    <tr>\n",
       "      <th>tasa_def</th>\n",
       "      <td>1.000000</td>\n",
       "      <td>0.286528</td>\n",
       "      <td>0.237881</td>\n",
       "      <td>-0.225657</td>\n",
       "      <td>-0.126749</td>\n",
       "    </tr>\n",
       "    <tr>\n",
       "      <th>prop_rural</th>\n",
       "      <td>0.286528</td>\n",
       "      <td>1.000000</td>\n",
       "      <td>0.290781</td>\n",
       "      <td>-0.494263</td>\n",
       "      <td>-0.255537</td>\n",
       "    </tr>\n",
       "    <tr>\n",
       "      <th>etnia</th>\n",
       "      <td>0.237881</td>\n",
       "      <td>0.290781</td>\n",
       "      <td>1.000000</td>\n",
       "      <td>-0.089675</td>\n",
       "      <td>-0.191956</td>\n",
       "    </tr>\n",
       "    <tr>\n",
       "      <th>ingreso</th>\n",
       "      <td>-0.225657</td>\n",
       "      <td>-0.494263</td>\n",
       "      <td>-0.089675</td>\n",
       "      <td>1.000000</td>\n",
       "      <td>0.253904</td>\n",
       "    </tr>\n",
       "    <tr>\n",
       "      <th>tasa_denuncias</th>\n",
       "      <td>-0.126749</td>\n",
       "      <td>-0.255537</td>\n",
       "      <td>-0.191956</td>\n",
       "      <td>0.253904</td>\n",
       "      <td>1.000000</td>\n",
       "    </tr>\n",
       "  </tbody>\n",
       "</table>\n",
       "</div>"
      ],
      "text/plain": [
       "                tasa_def  prop_rural     etnia   ingreso  tasa_denuncias\n",
       "tasa_def        1.000000    0.286528  0.237881 -0.225657       -0.126749\n",
       "prop_rural      0.286528    1.000000  0.290781 -0.494263       -0.255537\n",
       "etnia           0.237881    0.290781  1.000000 -0.089675       -0.191956\n",
       "ingreso        -0.225657   -0.494263 -0.089675  1.000000        0.253904\n",
       "tasa_denuncias -0.126749   -0.255537 -0.191956  0.253904        1.000000"
      ]
     },
     "execution_count": 5,
     "metadata": {},
     "output_type": "execute_result"
    }
   ],
   "source": [
    "data_otras[['tasa_def','prop_rural','etnia','ingreso','tasa_denuncias']].corr()"
   ]
  },
  {
   "cell_type": "markdown",
   "id": "30f8f4d7",
   "metadata": {},
   "source": [
    "### Modelos de regresión\n",
    "A continuación, se presentan los resultados del modelo 1, el cual es una regresión lineal simple, cuya variable dependiente es la tasa de defunciones para traumatismos y la explicativa es el promedio de ingresos, para todas las comunas del país. Se observa que el coeficiente de correlación es negativo, es decir, a mayor ingreso disminuye la tasa de defunciones. Asimismo, la prueba de significancia estadística indica que se rechaza la hipótesis nula, por lo que es posible concluir que existe una asociación entre las variables analizadas. Sin embargo, cabe mencionar que el R cuadrado del modelo es bastante bajo, alcanzando solamente 0.07"
   ]
  },
  {
   "cell_type": "code",
   "execution_count": 6,
   "id": "25837771",
   "metadata": {},
   "outputs": [
    {
     "name": "stdout",
     "output_type": "stream",
     "text": [
      "Modelo 1: modelo regresión lineal simple (ingresos sobre tasa de defunciones por traumatismos) para todas las comunas del país\n",
      "                            OLS Regression Results                            \n",
      "==============================================================================\n",
      "Dep. Variable:               tasa_def   R-squared:                       0.070\n",
      "Model:                            OLS   Adj. R-squared:                  0.068\n",
      "Method:                 Least Squares   F-statistic:                     24.38\n",
      "Date:                Sun, 16 Oct 2022   Prob (F-statistic):           1.27e-06\n",
      "Time:                        20:32:59   Log-Likelihood:                -1508.7\n",
      "No. Observations:                 324   AIC:                             3021.\n",
      "Df Residuals:                     322   BIC:                             3029.\n",
      "Df Model:                           1                                         \n",
      "Covariance Type:            nonrobust                                         \n",
      "==============================================================================\n",
      "                 coef    std err          t      P>|t|      [0.025      0.975]\n",
      "------------------------------------------------------------------------------\n",
      "Intercept     65.4490      3.024     21.642      0.000      59.499      71.399\n",
      "ingreso    -4.616e-05   9.35e-06     -4.938      0.000   -6.45e-05   -2.78e-05\n",
      "==============================================================================\n",
      "Omnibus:                       83.775   Durbin-Watson:                   1.384\n",
      "Prob(Omnibus):                  0.000   Jarque-Bera (JB):              197.459\n",
      "Skew:                           1.258   Prob(JB):                     1.33e-43\n",
      "Kurtosis:                       5.880   Cond. No.                     6.89e+05\n",
      "==============================================================================\n",
      "\n",
      "Notes:\n",
      "[1] Standard Errors assume that the covariance matrix of the errors is correctly specified.\n",
      "[2] The condition number is large, 6.89e+05. This might indicate that there are\n",
      "strong multicollinearity or other numerical problems.\n"
     ]
    }
   ],
   "source": [
    "mod1 = smf.ols(formula='tasa_def ~ ingreso', data=data_total)\n",
    "res1 = mod1.fit()\n",
    "print('Modelo 1: modelo regresión lineal simple (ingresos sobre tasa de defunciones por traumatismos) para todas las comunas del país')\n",
    "print(res1.summary())"
   ]
  },
  {
   "cell_type": "markdown",
   "id": "cf1cab85",
   "metadata": {},
   "source": [
    "En el caso de la Región Metropolitana, el modelo de regresión simple indica que existe una asociación negativa entre la tasa de defunciones por traumatismos y el promedio de ingresos de la comuna (modelo 2). Cabe mencionar que, en este caso, el R cuadrado obtenido es mayor (0.27), por lo que la variable ingresos explica mejor la tasa de defunciones en las comunas de la Región Metropolitana, que en el total de las comunas de las otras regiones."
   ]
  },
  {
   "cell_type": "code",
   "execution_count": 7,
   "id": "6cbf1f26",
   "metadata": {},
   "outputs": [
    {
     "name": "stdout",
     "output_type": "stream",
     "text": [
      "Modelo 2: modelo regresión lineal simple (ingresos sobre tasa de defunciones por traumatismos) para las comunas de la Región Metropolitana\n",
      "                            OLS Regression Results                            \n",
      "==============================================================================\n",
      "Dep. Variable:               tasa_def   R-squared:                       0.274\n",
      "Model:                            OLS   Adj. R-squared:                  0.260\n",
      "Method:                 Least Squares   F-statistic:                     18.90\n",
      "Date:                Sun, 16 Oct 2022   Prob (F-statistic):           6.76e-05\n",
      "Time:                        20:32:59   Log-Likelihood:                -189.94\n",
      "No. Observations:                  52   AIC:                             383.9\n",
      "Df Residuals:                      50   BIC:                             387.8\n",
      "Df Model:                           1                                         \n",
      "Covariance Type:            nonrobust                                         \n",
      "==============================================================================\n",
      "                 coef    std err          t      P>|t|      [0.025      0.975]\n",
      "------------------------------------------------------------------------------\n",
      "Intercept     44.8451      2.259     19.850      0.000      40.308      49.383\n",
      "ingreso    -1.874e-05   4.31e-06     -4.347      0.000   -2.74e-05   -1.01e-05\n",
      "==============================================================================\n",
      "Omnibus:                        1.203   Durbin-Watson:                   1.905\n",
      "Prob(Omnibus):                  0.548   Jarque-Bera (JB):                1.160\n",
      "Skew:                           0.341   Prob(JB):                        0.560\n",
      "Kurtosis:                       2.733   Cond. No.                     8.97e+05\n",
      "==============================================================================\n",
      "\n",
      "Notes:\n",
      "[1] Standard Errors assume that the covariance matrix of the errors is correctly specified.\n",
      "[2] The condition number is large, 8.97e+05. This might indicate that there are\n",
      "strong multicollinearity or other numerical problems.\n"
     ]
    }
   ],
   "source": [
    "mod2 = smf.ols(formula='tasa_def ~ ingreso', data=data_rm)\n",
    "res2 = mod2.fit()\n",
    "print('Modelo 2: modelo regresión lineal simple (ingresos sobre tasa de defunciones por traumatismos) para las comunas de la Región Metropolitana')\n",
    "print(res2.summary())"
   ]
  },
  {
   "cell_type": "markdown",
   "id": "38be9e3c",
   "metadata": {},
   "source": [
    "Para el grupo de comunas no pertenecientes a la Región Metropolitana, el modelo de regresión lineal simple también indica que existe una asociación negativa entre los ingresos y la tasa de defunción de la comuna (modelo 3). Si bien este coeficiente es significativo, el R cuadrado solamente es de 0.051, por lo que la variable ingresos explica una parte muy baja de la varianza de la tasa de defunciones por traumatismos."
   ]
  },
  {
   "cell_type": "code",
   "execution_count": 8,
   "id": "9dd5beb2",
   "metadata": {},
   "outputs": [
    {
     "name": "stdout",
     "output_type": "stream",
     "text": [
      "Modelo 3: modelo regresión lineal simple (ingresos sobre tasa de defunciones por traumatismos) para las comunas no pertenecientes a la Región Metropolitana\n",
      "                            OLS Regression Results                            \n",
      "==============================================================================\n",
      "Dep. Variable:               tasa_def   R-squared:                       0.051\n",
      "Model:                            OLS   Adj. R-squared:                  0.047\n",
      "Method:                 Least Squares   F-statistic:                     14.49\n",
      "Date:                Sun, 16 Oct 2022   Prob (F-statistic):           0.000175\n",
      "Time:                        20:32:59   Log-Likelihood:                -1280.0\n",
      "No. Observations:                 272   AIC:                             2564.\n",
      "Df Residuals:                     270   BIC:                             2571.\n",
      "Df Model:                           1                                         \n",
      "Covariance Type:            nonrobust                                         \n",
      "==============================================================================\n",
      "                 coef    std err          t      P>|t|      [0.025      0.975]\n",
      "------------------------------------------------------------------------------\n",
      "Intercept     77.6860      6.127     12.679      0.000      65.623      89.749\n",
      "ingreso     -8.68e-05   2.28e-05     -3.806      0.000      -0.000   -4.19e-05\n",
      "==============================================================================\n",
      "Omnibus:                       54.566   Durbin-Watson:                   1.385\n",
      "Prob(Omnibus):                  0.000   Jarque-Bera (JB):              102.951\n",
      "Skew:                           1.048   Prob(JB):                     4.41e-23\n",
      "Kurtosis:                       5.166   Cond. No.                     1.01e+06\n",
      "==============================================================================\n",
      "\n",
      "Notes:\n",
      "[1] Standard Errors assume that the covariance matrix of the errors is correctly specified.\n",
      "[2] The condition number is large, 1.01e+06. This might indicate that there are\n",
      "strong multicollinearity or other numerical problems.\n"
     ]
    }
   ],
   "source": [
    "mod3 = smf.ols(formula='tasa_def ~ ingreso', data=data_otras)\n",
    "res3 = mod3.fit()\n",
    "print('Modelo 3: modelo regresión lineal simple (ingresos sobre tasa de defunciones por traumatismos) para las comunas no pertenecientes a la Región Metropolitana')\n",
    "print(res3.summary())"
   ]
  },
  {
   "cell_type": "markdown",
   "id": "6a72a9ed",
   "metadata": {},
   "source": [
    "A continuación, se estiman modelos de regresión múltiples, agregando como variables de control la proporción de población rural, proporción que se identifica con un pueblo originario y la tasa de denuncias de delitos de mayor connotación social. Respecto a la asociación entre ingresos y la tasa de defunciones por traumatismos, el modelo 4 indica que, manteniendo el resto de las variables constantes, existe una asociación negativa y la prueba de hipótesis indica que este coeficiente es significativo. En cuanto a las variables proporción de población rural y proporción que se identifica con un pueblo originario, la asociación con la tasa de defunciones es positiva y significativa, es decir, en la medida que aumenta tanto la población rural como la identificación, aumenta la tasa de defunciones por traumatismos. Por último, en cuanto a la tasa de denuncias de delitos de mayor connotación social, si bien el coeficiente es negativo, no es significativo, por lo que no es posible afirmar que existe una asociación con esta variable.<br>Por último, cabe mencionar que el R cuadrado de este modelo es de 0.164, lo cual es mayor al 0.07 del modelo que incluye solamente la variable ingresos, por lo que las demás variables incorporadas son un aporte para explicar la tasa de defunciones por traumatismos."
   ]
  },
  {
   "cell_type": "code",
   "execution_count": 9,
   "id": "b5b3dbcd",
   "metadata": {},
   "outputs": [
    {
     "name": "stdout",
     "output_type": "stream",
     "text": [
      "Modelo 4: modelo regresión lineal múltiple para todas las comunas del país\n",
      "                            OLS Regression Results                            \n",
      "==============================================================================\n",
      "Dep. Variable:               tasa_def   R-squared:                       0.164\n",
      "Model:                            OLS   Adj. R-squared:                  0.154\n",
      "Method:                 Least Squares   F-statistic:                     15.69\n",
      "Date:                Sun, 16 Oct 2022   Prob (F-statistic):           9.79e-12\n",
      "Time:                        20:32:59   Log-Likelihood:                -1491.4\n",
      "No. Observations:                 324   AIC:                             2993.\n",
      "Df Residuals:                     319   BIC:                             3012.\n",
      "Df Model:                           4                                         \n",
      "Covariance Type:            nonrobust                                         \n",
      "==================================================================================\n",
      "                     coef    std err          t      P>|t|      [0.025      0.975]\n",
      "----------------------------------------------------------------------------------\n",
      "Intercept         49.4605      4.431     11.161      0.000      40.742      58.179\n",
      "ingreso        -2.675e-05    9.9e-06     -2.701      0.007   -4.62e-05   -7.27e-06\n",
      "prop_rural         0.2168      0.059      3.648      0.000       0.100       0.334\n",
      "etnia              0.2656      0.078      3.392      0.001       0.112       0.420\n",
      "tasa_denuncias    -0.0002      0.001     -0.244      0.808      -0.002       0.002\n",
      "==============================================================================\n",
      "Omnibus:                       69.643   Durbin-Watson:                   1.453\n",
      "Prob(Omnibus):                  0.000   Jarque-Bera (JB):              245.084\n",
      "Skew:                           0.898   Prob(JB):                     6.03e-54\n",
      "Kurtosis:                       6.864   Cond. No.                     1.06e+06\n",
      "==============================================================================\n",
      "\n",
      "Notes:\n",
      "[1] Standard Errors assume that the covariance matrix of the errors is correctly specified.\n",
      "[2] The condition number is large, 1.06e+06. This might indicate that there are\n",
      "strong multicollinearity or other numerical problems.\n"
     ]
    }
   ],
   "source": [
    "mod4 = smf.ols(formula='tasa_def ~ ingreso + prop_rural + etnia + tasa_denuncias', data=data_total)\n",
    "res4 = mod4.fit()\n",
    "params4 = res4.params\n",
    "print('Modelo 4: modelo regresión lineal múltiple para todas las comunas del país')\n",
    "print(res4.summary())"
   ]
  },
  {
   "cell_type": "markdown",
   "id": "15387d28",
   "metadata": {},
   "source": [
    "En la Región Metropolitana, el modelo 5 indica que existe un coeficiente negativo y significativo en la variable ingresos, manteniendo las demás variables constantes. Sin embargo, para el resto de las variables, el coeficiente no es significativo. Por lo tanto, es posible afirmar que, en las comunas de la Región Metropolitana, a mayor nivel de ingresos, menor es la tasa de defunciones por traumatismos, controlando por el resto de las variables. <br>Cabe destacar que, si bien el resto de las variables no tiene un coeficiente significativo, el R cuadrado del modelo llega a 0.311, siendo mayor que el del modelo que incluye solamente el promedio de ingresos como variable explicativa (0.27). Sin embargo, los indicadores de bondad de ajuste BIC y AIC, son mayores, lo que indicaría que no necesariamente el modelo es mejor."
   ]
  },
  {
   "cell_type": "code",
   "execution_count": 10,
   "id": "f2f9a877",
   "metadata": {},
   "outputs": [
    {
     "name": "stdout",
     "output_type": "stream",
     "text": [
      "Modelo 5: modelo regresión lineal múltiple para las comunas de la Región Metropolitana\n",
      "                            OLS Regression Results                            \n",
      "==============================================================================\n",
      "Dep. Variable:               tasa_def   R-squared:                       0.311\n",
      "Model:                            OLS   Adj. R-squared:                  0.252\n",
      "Method:                 Least Squares   F-statistic:                     5.291\n",
      "Date:                Sun, 16 Oct 2022   Prob (F-statistic):            0.00133\n",
      "Time:                        20:32:59   Log-Likelihood:                -188.61\n",
      "No. Observations:                  52   AIC:                             387.2\n",
      "Df Residuals:                      47   BIC:                             397.0\n",
      "Df Model:                           4                                         \n",
      "Covariance Type:            nonrobust                                         \n",
      "==================================================================================\n",
      "                     coef    std err          t      P>|t|      [0.025      0.975]\n",
      "----------------------------------------------------------------------------------\n",
      "Intercept         38.2487      5.120      7.470      0.000      27.948      48.550\n",
      "ingreso        -1.565e-05   5.05e-06     -3.101      0.003   -2.58e-05    -5.5e-06\n",
      "prop_rural         0.0184      0.069      0.267      0.790      -0.120       0.157\n",
      "etnia              0.6713      0.437      1.536      0.131      -0.208       1.551\n",
      "tasa_denuncias     0.0002      0.000      0.478      0.635      -0.001       0.001\n",
      "==============================================================================\n",
      "Omnibus:                        1.369   Durbin-Watson:                   1.849\n",
      "Prob(Omnibus):                  0.504   Jarque-Bera (JB):                1.213\n",
      "Skew:                           0.364   Prob(JB):                        0.545\n",
      "Kurtosis:                       2.827   Cond. No.                     2.03e+06\n",
      "==============================================================================\n",
      "\n",
      "Notes:\n",
      "[1] Standard Errors assume that the covariance matrix of the errors is correctly specified.\n",
      "[2] The condition number is large, 2.03e+06. This might indicate that there are\n",
      "strong multicollinearity or other numerical problems.\n"
     ]
    }
   ],
   "source": [
    "mod5 = smf.ols(formula='tasa_def ~ ingreso + prop_rural + etnia + tasa_denuncias', data=data_rm)\n",
    "res5 = mod5.fit()\n",
    "params5 = res5.params\n",
    "print('Modelo 5: modelo regresión lineal múltiple para las comunas de la Región Metropolitana')\n",
    "print(res5.summary())"
   ]
  },
  {
   "cell_type": "markdown",
   "id": "51102f6f",
   "metadata": {},
   "source": [
    "En las comunas que no pertenecen a la Región Metropolitana, al agregar las variables de control, se observa que el promedio de ingresos ya no tiene un coeficiente de regresión significativo con la tasa de defunciones por traumatismos (modelo 6). Sin embargo, tanto la proporción de población rural como la que pertenece a un pueblo originario tienen una coeficiente positivo y significativo con la variable explicada, y los coeficientes son significativos, por lo que es posible afirmar que existe una asociación positiva entre estas variables y la tasa de defunciones. Asimismo, respecto al modelo que solamente incluye la variable ingresos como explicativa, el R cuadrado es mayor, pasando de 0.051 a 0.12. Asimismo, los indicadores AIC y BIC son menores, lo que indicaría que este modelo es mejor para explicar la tasa de defunciones en las comunas no pertenecientes a la Región Metropolitana."
   ]
  },
  {
   "cell_type": "code",
   "execution_count": 11,
   "id": "39409c46",
   "metadata": {},
   "outputs": [
    {
     "name": "stdout",
     "output_type": "stream",
     "text": [
      "Modelo 6: modelo regresión lineal múltiple para las comunas no pertenecientes a la Región Metropolitana\n",
      "                            OLS Regression Results                            \n",
      "==============================================================================\n",
      "Dep. Variable:               tasa_def   R-squared:                       0.120\n",
      "Model:                            OLS   Adj. R-squared:                  0.107\n",
      "Method:                 Least Squares   F-statistic:                     9.107\n",
      "Date:                Sun, 16 Oct 2022   Prob (F-statistic):           6.55e-07\n",
      "Time:                        20:32:59   Log-Likelihood:                -1269.7\n",
      "No. Observations:                 272   AIC:                             2549.\n",
      "Df Residuals:                     267   BIC:                             2567.\n",
      "Df Model:                           4                                         \n",
      "Covariance Type:            nonrobust                                         \n",
      "==================================================================================\n",
      "                     coef    std err          t      P>|t|      [0.025      0.975]\n",
      "----------------------------------------------------------------------------------\n",
      "Intercept         57.3517      8.693      6.597      0.000      40.236      74.468\n",
      "ingreso        -4.632e-05   2.58e-05     -1.795      0.074   -9.71e-05    4.47e-06\n",
      "prop_rural         0.1884      0.076      2.477      0.014       0.039       0.338\n",
      "etnia              0.2441      0.085      2.858      0.005       0.076       0.412\n",
      "tasa_denuncias    -0.0005      0.002     -0.313      0.754      -0.004       0.003\n",
      "==============================================================================\n",
      "Omnibus:                       48.230   Durbin-Watson:                   1.457\n",
      "Prob(Omnibus):                  0.000   Jarque-Bera (JB):              129.120\n",
      "Skew:                           0.797   Prob(JB):                     9.16e-29\n",
      "Kurtosis:                       5.975   Cond. No.                     1.48e+06\n",
      "==============================================================================\n",
      "\n",
      "Notes:\n",
      "[1] Standard Errors assume that the covariance matrix of the errors is correctly specified.\n",
      "[2] The condition number is large, 1.48e+06. This might indicate that there are\n",
      "strong multicollinearity or other numerical problems.\n"
     ]
    }
   ],
   "source": [
    "mod6 = smf.ols(formula='tasa_def ~ ingreso + prop_rural + etnia + tasa_denuncias', data=data_otras)\n",
    "res6 = mod6.fit()\n",
    "params6 = res6.params\n",
    "print('Modelo 6: modelo regresión lineal múltiple para las comunas no pertenecientes a la Región Metropolitana')\n",
    "print(res6.summary())"
   ]
  },
  {
   "cell_type": "markdown",
   "id": "9213822d",
   "metadata": {},
   "source": [
    "Los resultados anteriores muetran que, en el caso de la Región Metropolitana, el promedio de ingreso per cápita de los hogares tiene una asociación negativa con la tasa de defunciones por traumatismos, manteniendo el resto de las variables constantes. En cambio, en las comunas que no pertenecen a la RM, no es posible afirmar que ocurra esta misma relación, ya que el coeficiente no es significativo. Sin embargo, sí es posible concluir que una mayor proporción de población rural y de población que se identifica con un pueblo originario se asocian a una mayor tasa de mortalidad por traumatismos, manteniendo el resto de las variables constantes. Por lo tanto, las características de las comunas que se asocian, ya sea negativa o positivamente, con la tasa de defunciones por traumatismos, varían según si la comuna pertenece o no a la Región Metropolitana."
   ]
  },
  {
   "cell_type": "markdown",
   "id": "93d88895",
   "metadata": {},
   "source": [
    "En el siguiente gráfico se observa la asociación entre las variables 'ingresos' y 'tasa de defunciones por traumatismos', así como el coeficienete de regresión del modelo que controla por el resto de las variables, en las comunas de la Región Metropolitana. A partir de la observación de este gráfico es posible obtener dos conclusiones: primero, la existencia de un posible efecto no lineal entre las variables mencionadas y, segundo, que hay cinco comunas que tienen un comportamiento distinto y se alejan de la nube de puntos donde se encuentra el resto de las comunas."
   ]
  },
  {
   "cell_type": "code",
   "execution_count": 12,
   "id": "9e0019d0",
   "metadata": {
    "scrolled": true
   },
   "outputs": [
    {
     "data": {
      "image/png": "[encoded data removed]",
      "text/plain": [
       "<Figure size 576x432 with 1 Axes>"
      ]
     },
     "metadata": {
      "needs_background": "light"
     },
     "output_type": "display_data"
    }
   ],
   "source": [
    "fig, ax = plt.subplots(figsize=(8, 6))\n",
    "\n",
    "ax.plot(data_rm['ingreso'], data_rm['tasa_def'], \"o\", label=\"Data\")\n",
    "ax.plot(data_rm['ingreso'], params5['Intercept']+params5['ingreso']*data_rm['ingreso']  , \"r-\", label=\"Predicted\")\n",
    "ax.set_ylabel(\"Tasa de defunciones por causas externas\")\n",
    "ax.set_xlabel(\"Promedio ingreso per cápita\")\n",
    "ax.set_title(\"Gráfico 1: Regresión de tasa de defunciones por causas externas en función de ingresos (RM)\")\n",
    "plt.show()"
   ]
  },
  {
   "cell_type": "markdown",
   "id": "88ac431e",
   "metadata": {},
   "source": [
    "En el siguiente gráfico se observa la asociación entre las variables 'ingresos' y 'tasa de defunciones por traumatismos', así como el coeficienete de regresión del modelo que controla por el resto de las variables, en las comunas del país que se encuentran fuera de la Región Metropolitana. Al comparar este gráfico con el anterior, es claro que la nube de puntos es mucho más dispersa, lo que se condice con el hecho de que el coeficiente de regresión no sea significativo."
   ]
  },
  {
   "cell_type": "code",
   "execution_count": 13,
   "id": "8d608f66",
   "metadata": {},
   "outputs": [
    {
     "data": {
      "image/png": "[encoded data removed]",
      "text/plain": [
       "<Figure size 576x432 with 1 Axes>"
      ]
     },
     "metadata": {
      "needs_background": "light"
     },
     "output_type": "display_data"
    }
   ],
   "source": [
    "fig, ax = plt.subplots(figsize=(8, 6))\n",
    "\n",
    "ax.plot(data_otras['ingreso'], data_otras['tasa_def'], \"o\", label=\"Data\")\n",
    "ax.plot(data_otras['ingreso'], params6['Intercept']+params6['ingreso']*data_otras['ingreso']  , \"r-\", label=\"Predicted\")\n",
    "ax.set_ylabel(\"Tasa de defunciones por causas externas\")\n",
    "ax.set_xlabel(\"Promedio ingreso per cápita\")\n",
    "ax.set_title(\"Gráfico 2: Regresión de tasa de defunciones por causas externas en función de ingresos (resto del país)\")\n",
    "plt.show()"
   ]
  },
  {
   "cell_type": "markdown",
   "id": "8283458d",
   "metadata": {},
   "source": [
    "Tal como se mencionó anteriormente, en el gráfico se observa que posiblemente existe una asociación no lineal entre los ingresos y la tasa de defunciones, en las comunas de la Región Metropolitana. Para explorar esto, se aplica transformación logarítmica sobre ambas variables y luego se estima el modelo con todas las variables. Los resultados indican que también existe una asociación negativa, con un coeficiente significativo, manteniendo el resto de las variables constantes. Sin embargo, lo más interesante es que este modelo tiene un R cuadrado superior al modelo 5 (donde no se aplicó la transformación logarítmica), y los indicadores de BIC y AIC son bastante menores. Por lo tanto, la transformación logarítmica permite predecir de mejor forma el comportamiento de la tasa de defunción por traumatismos, en las comunas de la Región Metropolitana."
   ]
  },
  {
   "cell_type": "code",
   "execution_count": 14,
   "id": "0675d0ea",
   "metadata": {},
   "outputs": [],
   "source": [
    "data_rm['tasa_def_log'] = np.log(data_rm['tasa_def'])\n",
    "data_rm['ingreso_log'] = np.log(data_rm['ingreso'])"
   ]
  },
  {
   "cell_type": "code",
   "execution_count": 15,
   "id": "cd6985d4",
   "metadata": {},
   "outputs": [
    {
     "name": "stdout",
     "output_type": "stream",
     "text": [
      "Modelo 7: modelo regresión lineal múltiple con transformación logarítmica, para las comunas de la Región Metropolitana\n",
      "                            OLS Regression Results                            \n",
      "==============================================================================\n",
      "Dep. Variable:           tasa_def_log   R-squared:                       0.448\n",
      "Model:                            OLS   Adj. R-squared:                  0.401\n",
      "Method:                 Least Squares   F-statistic:                     9.540\n",
      "Date:                Sun, 16 Oct 2022   Prob (F-statistic):           9.90e-06\n",
      "Time:                        20:32:59   Log-Likelihood:                 1.2842\n",
      "No. Observations:                  52   AIC:                             7.432\n",
      "Df Residuals:                      47   BIC:                             17.19\n",
      "Df Model:                           4                                         \n",
      "Covariance Type:            nonrobust                                         \n",
      "==================================================================================\n",
      "                     coef    std err          t      P>|t|      [0.025      0.975]\n",
      "----------------------------------------------------------------------------------\n",
      "Intercept          8.8637      1.162      7.625      0.000       6.525      11.202\n",
      "ingreso_log       -0.4211      0.088     -4.811      0.000      -0.597      -0.245\n",
      "prop_rural        -0.0007      0.002     -0.371      0.712      -0.004       0.003\n",
      "etnia              0.0118      0.011      1.025      0.310      -0.011       0.035\n",
      "tasa_denuncias   8.31e-06   1.27e-05      0.652      0.517   -1.73e-05    3.39e-05\n",
      "==============================================================================\n",
      "Omnibus:                        0.445   Durbin-Watson:                   1.821\n",
      "Prob(Omnibus):                  0.801   Jarque-Bera (JB):                0.588\n",
      "Skew:                          -0.059   Prob(JB):                        0.745\n",
      "Kurtosis:                       2.492   Cond. No.                     1.39e+05\n",
      "==============================================================================\n",
      "\n",
      "Notes:\n",
      "[1] Standard Errors assume that the covariance matrix of the errors is correctly specified.\n",
      "[2] The condition number is large, 1.39e+05. This might indicate that there are\n",
      "strong multicollinearity or other numerical problems.\n"
     ]
    }
   ],
   "source": [
    "mod7 = smf.ols(formula='tasa_def_log ~ ingreso_log + prop_rural + etnia + tasa_denuncias', data=data_rm)\n",
    "res7 = mod7.fit()\n",
    "params7 = res7.params\n",
    "print('Modelo 7: modelo regresión lineal múltiple con transformación logarítmica, para las comunas de la Región Metropolitana')\n",
    "print(res7.summary())"
   ]
  },
  {
   "cell_type": "markdown",
   "id": "62f22be5",
   "metadata": {},
   "source": [
    "En el gráfico a continuación se observa la asociación entre las variables tasa de defunciones por traumatismos e ingresos de la comuna, ambos transformadas logarítmicamente, así como el coeficiente de correlación del modelo con el resto de las variables de control. Respecto al gráfico del modelo sin la transformación logarítmica, se observa que la nube de puntos es más homogénea y la pendiente es más pronunciada. Sin embargo, se siguen notando cinco comunas que tienen un comportamiento atípico. "
   ]
  },
  {
   "cell_type": "code",
   "execution_count": 16,
   "id": "a5e87c71",
   "metadata": {},
   "outputs": [
    {
     "data": {
      "image/png": "[encoded data removed]",
      "text/plain": [
       "<Figure size 576x432 with 1 Axes>"
      ]
     },
     "metadata": {
      "needs_background": "light"
     },
     "output_type": "display_data"
    }
   ],
   "source": [
    "fig, ax = plt.subplots(figsize=(8, 6))\n",
    "\n",
    "ax.plot(data_rm['ingreso_log'], data_rm['tasa_def_log'], \"o\", label=\"Data\")\n",
    "ax.plot(data_rm['ingreso_log'], params7['Intercept']+params7['ingreso_log']*data_rm['ingreso_log']  , \"r-\", label=\"Predicted\")\n",
    "ax.set_ylabel(\"Tasa de defunciones por causas externas\")\n",
    "ax.set_xlabel(\"Promedio ingreso per cápita\")\n",
    "ax.set_title(\"Gráfico 4: Regresión de tasa de defunciones por causas externas en función de ingresos (RM)\\nTransformación logarítmica\")\n",
    "plt.show()"
   ]
  },
  {
   "cell_type": "code",
   "execution_count": 17,
   "id": "4ab95c95",
   "metadata": {},
   "outputs": [],
   "source": [
    "# base code\n",
    "import numpy as np\n",
    "import seaborn as sns\n",
    "import statsmodels\n",
    "from statsmodels.tools.tools import maybe_unwrap_results\n",
    "from statsmodels.graphics.gofplots import ProbPlot\n",
    "from statsmodels.stats.outliers_influence import variance_inflation_factor\n",
    "import matplotlib.pyplot as plt\n",
    "from typing import Type\n",
    "\n",
    "style_talk = 'seaborn-talk'    #refer to plt.style.available\n",
    "\n",
    "class Linear_Reg_Diagnostic():\n",
    "    \"\"\"\n",
    "    Diagnostic plots to identify potential problems in a linear regression fit.\n",
    "    Mainly,\n",
    "        a. non-linearity of data\n",
    "        b. Correlation of error terms\n",
    "        c. non-constant variance \n",
    "        d. outliers\n",
    "        e. high-leverage points\n",
    "        f. collinearity\n",
    "\n",
    "    Author:\n",
    "        Prajwal Kafle (p33ajkafle@gmail.com, where 3 = r)\n",
    "        Does not come with any sort of warranty. \n",
    "        Please test the code one your end before using.\n",
    "    \"\"\"\n",
    "\n",
    "    def __init__(self, \n",
    "                 results: Type[statsmodels.regression.linear_model.RegressionResultsWrapper]) -> None:\n",
    "        \"\"\"\n",
    "        For a linear regression model, generates following diagnostic plots:\n",
    "\n",
    "        a. residual\n",
    "        b. qq\n",
    "        c. scale location and\n",
    "        d. leverage\n",
    "\n",
    "        and a table\n",
    "\n",
    "        e. vif\n",
    "\n",
    "        Args:\n",
    "            results (Type[statsmodels.regression.linear_model.RegressionResultsWrapper]): \n",
    "                must be instance of statsmodels.regression.linear_model object\n",
    "\n",
    "        Raises:\n",
    "            TypeError: if instance does not belong to above object\n",
    "\n",
    "        Example:\n",
    "        >>> import numpy as np\n",
    "        >>> import pandas as pd\n",
    "        >>> import statsmodels.formula.api as smf\n",
    "        >>> x = np.linspace(-np.pi, np.pi, 100)\n",
    "        >>> y = 3*x + 8 + np.random.normal(0,1, 100)\n",
    "        >>> df = pd.DataFrame({'x':x, 'y':y})\n",
    "        >>> res = smf.ols(formula= \"y ~ x\", data=df).fit()\n",
    "        >>> cls = Linear_Reg_Diagnostic(res)\n",
    "        >>> cls(plot_context=\"seaborn-paper\")     \n",
    "\n",
    "        In case you do not need all plots you can also independently make an individual plot/table\n",
    "        in following ways\n",
    "\n",
    "        >>> cls = Linear_Reg_Diagnostic(res)\n",
    "        >>> cls.residual_plot()\n",
    "        >>> cls.qq_plot()\n",
    "        >>> cls.scale_location_plot()\n",
    "        >>> cls.leverage_plot()\n",
    "        >>> cls.vif_table()\n",
    "        \"\"\"\n",
    "\n",
    "        if isinstance(results, statsmodels.regression.linear_model.RegressionResultsWrapper) is False:\n",
    "            raise TypeError(\"result must be instance of statsmodels.regression.linear_model.RegressionResultsWrapper object\")\n",
    "\n",
    "        self.results = maybe_unwrap_results(results)\n",
    "\n",
    "        self.y_true = self.results.model.endog\n",
    "        self.y_predict = self.results.fittedvalues\n",
    "        self.xvar = self.results.model.exog\n",
    "        self.xvar_names = self.results.model.exog_names\n",
    "\n",
    "        self.residual = np.array(self.results.resid)\n",
    "        influence = self.results.get_influence()\n",
    "        self.residual_norm = influence.resid_studentized_internal\n",
    "        self.leverage = influence.hat_matrix_diag\n",
    "        self.cooks_distance = influence.cooks_distance[0]\n",
    "        self.nparams = len(self.results.params)\n",
    "\n",
    "    def __call__(self, plot_context='seaborn-paper'):\n",
    "        # print(plt.style.available)\n",
    "        with plt.style.context(plot_context):\n",
    "            fig, ax = plt.subplots(nrows=2, ncols=2, figsize=(10,10))\n",
    "            self.residual_plot(ax=ax[0,0])\n",
    "            self.qq_plot(ax=ax[0,1])\n",
    "            self.scale_location_plot(ax=ax[1,0])\n",
    "            self.leverage_plot(ax=ax[1,1])\n",
    "            plt.show()\n",
    "        \n",
    "        self.vif_table()\n",
    "        return fig, ax\n",
    "\n",
    "\n",
    "    def residual_plot(self, ax=None):\n",
    "        \"\"\"\n",
    "        Residual vs Fitted Plot\n",
    "\n",
    "        Graphical tool to identify non-linearity.\n",
    "        (Roughly) Horizontal red line is an indicator that the residual has a linear pattern\n",
    "        \"\"\"\n",
    "        if ax is None:\n",
    "            fig, ax = plt.subplots()\n",
    "\n",
    "        sns.residplot(\n",
    "            x=self.y_predict, \n",
    "            y=self.residual, \n",
    "            lowess=True,\n",
    "            scatter_kws={'alpha': 0.5},\n",
    "            line_kws={'color': 'red', 'lw': 1, 'alpha': 0.8}, \n",
    "            ax=ax)\n",
    "\n",
    "        # annotations\n",
    "        residual_abs = np.abs(self.residual)\n",
    "        abs_resid = np.flip(np.sort(residual_abs))\n",
    "        abs_resid_top_3 = abs_resid[:3]\n",
    "        for i, _ in enumerate(abs_resid_top_3):\n",
    "            ax.annotate(\n",
    "                i, \n",
    "                xy=(self.y_predict[i], self.residual[i]), \n",
    "                color='C3')\n",
    "\n",
    "        ax.set_title('Residuals vs Fitted', fontweight=\"bold\")\n",
    "        ax.set_xlabel('Fitted values')\n",
    "        ax.set_ylabel('Residuals')\n",
    "        return ax\n",
    "\n",
    "    def qq_plot(self, ax=None):\n",
    "        \"\"\"\n",
    "        Standarized Residual vs Theoretical Quantile plot\n",
    "\n",
    "        Used to visually check if residuals are normally distributed.\n",
    "        Points spread along the diagonal line will suggest so.\n",
    "        \"\"\"\n",
    "        if ax is None:\n",
    "            fig, ax = plt.subplots()\n",
    "        \n",
    "        QQ = ProbPlot(self.residual_norm)\n",
    "        QQ.qqplot(line='45', alpha=0.5, lw=1, ax=ax)\n",
    "\n",
    "        # annotations\n",
    "        abs_norm_resid = np.flip(np.argsort(np.abs(self.residual_norm)), 0)\n",
    "        abs_norm_resid_top_3 = abs_norm_resid[:3]\n",
    "        for r, i in enumerate(abs_norm_resid_top_3):\n",
    "            ax.annotate(\n",
    "                i, \n",
    "                xy=(np.flip(QQ.theoretical_quantiles, 0)[r], self.residual_norm[i]), \n",
    "                ha='right', color='C3')\n",
    "\n",
    "        ax.set_title('Normal Q-Q', fontweight=\"bold\")\n",
    "        ax.set_xlabel('Theoretical Quantiles')\n",
    "        ax.set_ylabel('Standardized Residuals')\n",
    "        return ax\n",
    "  \n",
    "    def scale_location_plot(self, ax=None):\n",
    "        \"\"\"\n",
    "        Sqrt(Standarized Residual) vs Fitted values plot\n",
    "\n",
    "        Used to check homoscedasticity of the residuals.\n",
    "        Horizontal line will suggest so.\n",
    "        \"\"\"\n",
    "        if ax is None:\n",
    "            fig, ax = plt.subplots()\n",
    "\n",
    "        residual_norm_abs_sqrt = np.sqrt(np.abs(self.residual_norm))\n",
    "\n",
    "        ax.scatter(self.y_predict, residual_norm_abs_sqrt, alpha=0.5);\n",
    "        sns.regplot(\n",
    "            x=self.y_predict, \n",
    "            y=residual_norm_abs_sqrt,\n",
    "            scatter=False, ci=False,\n",
    "            lowess=True,\n",
    "            line_kws={'color': 'red', 'lw': 1, 'alpha': 0.8}, \n",
    "            ax=ax)\n",
    "\n",
    "        # annotations\n",
    "        abs_sq_norm_resid = np.flip(np.argsort(residual_norm_abs_sqrt), 0)\n",
    "        abs_sq_norm_resid_top_3 = abs_sq_norm_resid[:3]\n",
    "        for i in abs_sq_norm_resid_top_3:\n",
    "            ax.annotate(\n",
    "                i, \n",
    "                xy=(self.y_predict[i], residual_norm_abs_sqrt[i]), \n",
    "                color='C3')\n",
    "        ax.set_title('Scale-Location', fontweight=\"bold\")\n",
    "        ax.set_xlabel('Fitted values')\n",
    "        ax.set_ylabel(r'$\\sqrt{|\\mathrm{Standardized\\ Residuals}|}$');\n",
    "        return ax\n",
    "\n",
    "    def leverage_plot(self, ax=None):\n",
    "        \"\"\"\n",
    "        Residual vs Leverage plot\n",
    "\n",
    "        Points falling outside Cook's distance curves are considered observation that can sway the fit\n",
    "        aka are influential.\n",
    "        Good to have none outside the curves.\n",
    "        \"\"\"\n",
    "        if ax is None:\n",
    "            fig, ax = plt.subplots()\n",
    "\n",
    "        ax.scatter(\n",
    "            self.leverage, \n",
    "            self.residual_norm, \n",
    "            alpha=0.5);\n",
    "        \n",
    "        sns.regplot(\n",
    "            x=self.leverage, \n",
    "            y=self.residual_norm,\n",
    "            scatter=False,\n",
    "            ci=False,\n",
    "            lowess=True,\n",
    "            line_kws={'color': 'red', 'lw': 1, 'alpha': 0.8},\n",
    "            ax=ax)\n",
    "\n",
    "        # annotations\n",
    "        leverage_top_3 = np.flip(np.argsort(self.cooks_distance), 0)[:3]\n",
    "        for i in leverage_top_3:\n",
    "            ax.annotate(\n",
    "                i, \n",
    "                xy=(self.leverage[i], self.residual_norm[i]),\n",
    "                color = 'C3')\n",
    "\n",
    "        xtemp, ytemp = self.__cooks_dist_line(0.5) # 0.5 line\n",
    "        ax.plot(xtemp, ytemp, label=\"Cook's distance\", lw=1, ls='--', color='red')\n",
    "        xtemp, ytemp = self.__cooks_dist_line(1) # 1 line\n",
    "        ax.plot(xtemp, ytemp, lw=1, ls='--', color='red')\n",
    "        \n",
    "        ax.set_xlim(0, max(self.leverage)+0.01)\n",
    "        ax.set_title('Residuals vs Leverage', fontweight=\"bold\")\n",
    "        ax.set_xlabel('Leverage')\n",
    "        ax.set_ylabel('Standardized Residuals')\n",
    "        ax.legend(loc='upper right')\n",
    "        return ax\n",
    "\n",
    "    def vif_table(self):\n",
    "        \"\"\"\n",
    "        VIF table\n",
    "\n",
    "        VIF, the variance inflation factor, is a measure of multicollinearity.\n",
    "        VIF > 5 for a variable indicates that it is highly collinear with the \n",
    "        other input variables.\n",
    "        \"\"\"\n",
    "        vif_df = pd.DataFrame()\n",
    "        vif_df[\"Features\"] = self.xvar_names\n",
    "        vif_df[\"VIF Factor\"] = [variance_inflation_factor(self.xvar, i) for i in range(self.xvar.shape[1])]\n",
    "\n",
    "        print(vif_df\n",
    "                .sort_values(\"VIF Factor\")\n",
    "                .round(2))\n",
    "        \n",
    "\n",
    "    def __cooks_dist_line(self, factor):\n",
    "        \"\"\"\n",
    "        Helper function for plotting Cook's distance curves\n",
    "        \"\"\"\n",
    "        p = self.nparams \n",
    "        formula = lambda x: np.sqrt((factor * p * (1 - x)) / x)\n",
    "        x = np.linspace(0.001, max(self.leverage), 50)\n",
    "        y = formula(x)\n",
    "        return x, y"
   ]
  },
  {
   "cell_type": "markdown",
   "id": "cc8c8471",
   "metadata": {},
   "source": [
    "En el siguiente gráfico se observan los residuos del modelo que incluye la transformación logarítmica de las variables ingresos y tasa de defunciones. Nuevamente destacan las cinco comunas con un comportamiento atípico, en las cuales los residuos también tienen un comportamiento distinto. Dado lo anterior, se eliminan de la base de datos las cinco comunas con el mayor promedio de ingresos (Vitacura, Providencia, Las Condes, La Reina y Ñuñoa) y se estiman nuevamente los modelos de regresión, con y sin transformación logarítmica."
   ]
  },
  {
   "cell_type": "code",
   "execution_count": 18,
   "id": "9ba8f643",
   "metadata": {},
   "outputs": [
    {
     "data": {
      "image/png": "[encoded data removed]",
      "text/plain": [
       "<Figure size 432x288 with 1 Axes>"
      ]
     },
     "metadata": {
      "needs_background": "light"
     },
     "output_type": "display_data"
    }
   ],
   "source": [
    "cls = Linear_Reg_Diagnostic(res7)\n",
    "cls.residual_plot();"
   ]
  },
  {
   "cell_type": "markdown",
   "id": "bc5939f8",
   "metadata": {},
   "source": [
    "Respecto al modelo sin la transformación logarítmica y eliminando las cinco comunas con más ingresos de la Región Metropolitana (modelo 8), sigue existiendo una asociación negativa entre ingresos y tasa de defunciones por traumatismos, controlando por el resto de las variables, en las comunas de la Región Metropolitana. Sin embargo, al comparar este modelo con el que incluye todas las comunas (modelo 5), el R cuadrado es mayor y los indicadores AIC y BIC son menores, lo que indica que al eliminar las cinco comunas mencionadas, el poder predictivo del modelo es mejor."
   ]
  },
  {
   "cell_type": "code",
   "execution_count": 19,
   "id": "2698e24e",
   "metadata": {},
   "outputs": [],
   "source": [
    "data_rm2 = data_rm[(data_rm['Nombre Comuna']!='Vitacura')&\n",
    "                    (data_rm['Nombre Comuna']!='Providencia')&\n",
    "                    (data_rm['Nombre Comuna']!='Las Condes')&\n",
    "                   (data_rm['Nombre Comuna']!='La Reina')&\n",
    "                   (data_rm['Nombre Comuna']!='Ñuñoa')]"
   ]
  },
  {
   "cell_type": "code",
   "execution_count": 20,
   "id": "76ce2b53",
   "metadata": {},
   "outputs": [
    {
     "name": "stdout",
     "output_type": "stream",
     "text": [
      "Modelo 8: modelo regresión lineal múltiple eliminando las cinco comunas de más ingreso, para las comunas de la Región Metropolitana\n",
      "                            OLS Regression Results                            \n",
      "==============================================================================\n",
      "Dep. Variable:               tasa_def   R-squared:                       0.395\n",
      "Model:                            OLS   Adj. R-squared:                  0.337\n",
      "Method:                 Least Squares   F-statistic:                     6.842\n",
      "Date:                Sun, 16 Oct 2022   Prob (F-statistic):           0.000246\n",
      "Time:                        20:33:00   Log-Likelihood:                -165.55\n",
      "No. Observations:                  47   AIC:                             341.1\n",
      "Df Residuals:                      42   BIC:                             350.3\n",
      "Df Model:                           4                                         \n",
      "Covariance Type:            nonrobust                                         \n",
      "==================================================================================\n",
      "                     coef    std err          t      P>|t|      [0.025      0.975]\n",
      "----------------------------------------------------------------------------------\n",
      "Intercept         54.2181      6.284      8.629      0.000      41.537      66.899\n",
      "ingreso        -6.623e-05   1.43e-05     -4.630      0.000   -9.51e-05   -3.74e-05\n",
      "prop_rural         0.0085      0.063      0.135      0.893      -0.118       0.135\n",
      "etnia              0.5448      0.399      1.366      0.179      -0.260       1.350\n",
      "tasa_denuncias     0.0008      0.000      1.619      0.113      -0.000       0.002\n",
      "==============================================================================\n",
      "Omnibus:                        3.803   Durbin-Watson:                   1.632\n",
      "Prob(Omnibus):                  0.149   Jarque-Bera (JB):                3.127\n",
      "Skew:                           0.518   Prob(JB):                        0.209\n",
      "Kurtosis:                       2.278   Cond. No.                     1.74e+06\n",
      "==============================================================================\n",
      "\n",
      "Notes:\n",
      "[1] Standard Errors assume that the covariance matrix of the errors is correctly specified.\n",
      "[2] The condition number is large, 1.74e+06. This might indicate that there are\n",
      "strong multicollinearity or other numerical problems.\n"
     ]
    }
   ],
   "source": [
    "mod8 = smf.ols(formula='tasa_def ~ ingreso + prop_rural + etnia + tasa_denuncias', data=data_rm2)\n",
    "res8 = mod8.fit()\n",
    "params8 = res8.params\n",
    "print('Modelo 8: modelo regresión lineal múltiple eliminando las cinco comunas de más ingreso, para las comunas de la Región Metropolitana')\n",
    "print(res8.summary())"
   ]
  },
  {
   "cell_type": "markdown",
   "id": "9596a3a8",
   "metadata": {},
   "source": [
    "En el gráfico a continuación se presenta la asociación de las variables tasa de defunciones por traumatismos y promedio de ingresos, y el coeficiente de regresión del modelo 8. Se observa que la nube de puntos es bastante homogénea, y los valores son bien cercanos a la línea que representa el coeficiente de regresión."
   ]
  },
  {
   "cell_type": "code",
   "execution_count": 21,
   "id": "f80fdc96",
   "metadata": {},
   "outputs": [
    {
     "data": {
      "image/png": "[encoded data removed]",
      "text/plain": [
       "<Figure size 576x432 with 1 Axes>"
      ]
     },
     "metadata": {
      "needs_background": "light"
     },
     "output_type": "display_data"
    }
   ],
   "source": [
    "fig, ax = plt.subplots(figsize=(8, 6))\n",
    "\n",
    "ax.plot(data_rm2['ingreso'], data_rm2['tasa_def'], \"o\", label=\"Data\")\n",
    "ax.plot(data_rm2['ingreso'], params8['Intercept']+params8['ingreso']*data_rm2['ingreso']  , \"r-\", label=\"Predicted\")\n",
    "ax.set_ylabel(\"Tasa de defunciones por causas externas\")\n",
    "ax.set_xlabel(\"Promedio ingreso per cápita\")\n",
    "ax.set_title(\"Gráfico 6: Regresión de tasa de defunciones por causas externas en función de ingresos (RM)\\neliminando las cinco comunas con más ingresos\")\n",
    "plt.show()"
   ]
  },
  {
   "cell_type": "markdown",
   "id": "45ce1db0",
   "metadata": {},
   "source": [
    "A continuación, se presentan los resultados del modelo 9, el cual elimina las cinco comunas de la Región Metropolitana con más ingresos y aplica transformación logarítmica a las variables promedio de ingresos por hogar y tasa de defunciones por traumatismos. La tendencia es la misma que en el modelo 7, observándose una asociación negativa entre ingresos y la tasa de defunciones por traumatismos, con un coeficiente de regresión significativo, manteniendo el resto de las variables constantes. Respecto a las demás variables del modelo, no es posible afirmar que existe una asociación, ya que los test de hipótesis no permiten rechazar la hipótesis nula. En cuanto a la bondad del ajuste, este modelo es el que tiene mayor R cuadrado y menores AIC y BIC, en comparación al resto de los modelos para las comunas de la Región Metropolitana, por lo que es el que explica mejor la variable tasa de defunciones por traumatismos."
   ]
  },
  {
   "cell_type": "code",
   "execution_count": 22,
   "id": "811f93cc",
   "metadata": {
    "scrolled": true
   },
   "outputs": [
    {
     "name": "stdout",
     "output_type": "stream",
     "text": [
      "Modelo 9: modelo regresión lineal múltiple con transformación logarítmica y eliminando las cinco comunas de más ingresos, para las comunas de la Región Metropolitana\n",
      "                            OLS Regression Results                            \n",
      "==============================================================================\n",
      "Dep. Variable:           tasa_def_log   R-squared:                       0.454\n",
      "Model:                            OLS   Adj. R-squared:                  0.402\n",
      "Method:                 Least Squares   F-statistic:                     8.729\n",
      "Date:                Sun, 16 Oct 2022   Prob (F-statistic):           3.19e-05\n",
      "Time:                        20:33:00   Log-Likelihood:                 5.5157\n",
      "No. Observations:                  47   AIC:                            -1.031\n",
      "Df Residuals:                      42   BIC:                             8.219\n",
      "Df Model:                           4                                         \n",
      "Covariance Type:            nonrobust                                         \n",
      "==================================================================================\n",
      "                     coef    std err          t      P>|t|      [0.025      0.975]\n",
      "----------------------------------------------------------------------------------\n",
      "Intercept         13.3731      1.862      7.183      0.000       9.616      17.130\n",
      "ingreso_log       -0.7795      0.146     -5.349      0.000      -1.074      -0.485\n",
      "prop_rural        -0.0007      0.002     -0.417      0.679      -0.004       0.003\n",
      "etnia              0.0107      0.011      1.008      0.319      -0.011       0.032\n",
      "tasa_denuncias  1.799e-05   1.24e-05      1.448      0.155   -7.08e-06    4.31e-05\n",
      "==============================================================================\n",
      "Omnibus:                        2.661   Durbin-Watson:                   1.727\n",
      "Prob(Omnibus):                  0.264   Jarque-Bera (JB):                1.609\n",
      "Skew:                           0.179   Prob(JB):                        0.447\n",
      "Kurtosis:                       2.168   Cond. No.                     2.32e+05\n",
      "==============================================================================\n",
      "\n",
      "Notes:\n",
      "[1] Standard Errors assume that the covariance matrix of the errors is correctly specified.\n",
      "[2] The condition number is large, 2.32e+05. This might indicate that there are\n",
      "strong multicollinearity or other numerical problems.\n"
     ]
    }
   ],
   "source": [
    "mod9 = smf.ols(formula='tasa_def_log ~ ingreso_log + prop_rural + etnia + tasa_denuncias', data=data_rm2)\n",
    "res9 = mod9.fit()\n",
    "params9 = res9.params\n",
    "print('Modelo 9: modelo regresión lineal múltiple con transformación logarítmica y eliminando las cinco comunas de más ingresos, para las comunas de la Región Metropolitana')\n",
    "print(res9.summary())"
   ]
  },
  {
   "cell_type": "markdown",
   "id": "22d102fe",
   "metadata": {},
   "source": [
    "En el siguiente gráfico, se observa la asociación entre la tasa de defunciones por causas externas e ingresos, eliminando las cinco comunas con mayores ingresos y aplicando transformación logarítmica, así como el coeficiente de regresión del modelo 9. Asimismo, en el gráfico posterior, se observa que los residuos tienen una distribución más homogénea."
   ]
  },
  {
   "cell_type": "code",
   "execution_count": 23,
   "id": "db5a70fc",
   "metadata": {},
   "outputs": [
    {
     "data": {
      "image/png": "[encoded data removed]",
      "text/plain": [
       "<Figure size 576x432 with 1 Axes>"
      ]
     },
     "metadata": {
      "needs_background": "light"
     },
     "output_type": "display_data"
    }
   ],
   "source": [
    "fig, ax = plt.subplots(figsize=(8, 6))\n",
    "\n",
    "ax.plot(data_rm2['ingreso_log'], data_rm2['tasa_def_log'], \"o\", label=\"Data\")\n",
    "ax.plot(data_rm2['ingreso_log'], params9['Intercept']+params9['ingreso_log']*data_rm2['ingreso_log']  , \"r-\", label=\"Predicted\")\n",
    "ax.set_ylabel(\"Tasa de defunciones por causas externas\")\n",
    "ax.set_xlabel(\"Promedio ingreso per cápita\")\n",
    "ax.set_title(\"Gráfico 7: Regresión de tasa de defunciones por causas externas en función de ingresos (RM)\\neliminando las cinco comunas con más ingresos y con transformación logarítmica\")\n",
    "plt.show()"
   ]
  },
  {
   "cell_type": "code",
   "execution_count": 24,
   "id": "4de8662f",
   "metadata": {},
   "outputs": [
    {
     "data": {
      "image/png": "[encoded data removed]",
      "text/plain": [
       "<Figure size 432x288 with 1 Axes>"
      ]
     },
     "metadata": {
      "needs_background": "light"
     },
     "output_type": "display_data"
    }
   ],
   "source": [
    "cls = Linear_Reg_Diagnostic(res9)\n",
    "cls.residual_plot();"
   ]
  },
  {
   "cell_type": "markdown",
   "id": "9cdba34d",
   "metadata": {},
   "source": [
    "Volviendo a las comunas que se encuentran fuera de la Región Metropolitana, anteriormente se mencionó que, a mayor proporción de población rural, mayor tasa de defunciones por traumatismos. Inicialmente se hipotetizó que esto podría deberse a la dificultad de acceder a centro asistenciales, por lo que es probable que los accidentes ocurridos sean más letales. Una forma de probar esta hipótesis es incorporar al modelo la variable 'tiempo promedio en minutos al hospital o clínica más cercano', el cual forma parte de los indicadores de calidad de vida rural. Sin embargo, no se cuenta con este indicador para todas las comunas, por lo que se excluyen del análisis las siguientes: Iquique, Alto Hospicio, Antofagasta, Calama, Copiapó, La Serena, Coquimbo, Ovalle, Valparaíso, Viña del Mar, Los Andes, Quillota, Calera, San Antonio, San Felipe, Quilpué, Villa Alemana, Rancagua, Machalí, Rengo, San Fernando, Talca, Curicó, Linares, Concepción, Coronel, Chiguayante, San Pedro de la Paz, Talcahuano, Tomé, Hualpén, Los Angeles, Temuco, Angol, Puerto Montt, Puqueldón, Osorno, Coyhaique, Punta Arenas, Valdivia, Arica y Chillán.<br>Dado lo anterior, para realizar la comparación, primero se estima nuevamente el modelo 6, pero sin incluir las comunas mencionadas. Se observa que, para este subconjunto de comunas fuera de la Región Metropolitana, la proporción de población rural no tiene un efecto significativo en la tasa de defunciones por traumatismos. Asimismo, el R cuadrado disminuye de 0.120 en el modelo 6 a 0.075 en el modelo 10, lo que indicaría que el modelo 6 es mejor, aunque según los indicadores AIC y BIC, es el modelo 10 el mejor."
   ]
  },
  {
   "cell_type": "code",
   "execution_count": 25,
   "id": "8341002c",
   "metadata": {},
   "outputs": [
    {
     "name": "stdout",
     "output_type": "stream",
     "text": [
      "Modelo 10: modelo regresión lineal múltiple para las comunas no pertenecientes a la Región Metropolitana\n",
      "excluyendo comunas sin información sobre tiempo en minutos a hospital o clínica más cercana\n",
      "                            OLS Regression Results                            \n",
      "==============================================================================\n",
      "Dep. Variable:               tasa_def   R-squared:                       0.075\n",
      "Model:                            OLS   Adj. R-squared:                  0.058\n",
      "Method:                 Least Squares   F-statistic:                     4.542\n",
      "Date:                Sun, 16 Oct 2022   Prob (F-statistic):            0.00151\n",
      "Time:                        20:33:00   Log-Likelihood:                -1088.4\n",
      "No. Observations:                 230   AIC:                             2187.\n",
      "Df Residuals:                     225   BIC:                             2204.\n",
      "Df Model:                           4                                         \n",
      "Covariance Type:            nonrobust                                         \n",
      "==================================================================================\n",
      "                     coef    std err          t      P>|t|      [0.025      0.975]\n",
      "----------------------------------------------------------------------------------\n",
      "Intercept         60.4123     10.306      5.862      0.000      40.103      80.721\n",
      "ingreso        -4.786e-05   3.21e-05     -1.490      0.138      -0.000    1.54e-05\n",
      "prop_rural         0.1287      0.089      1.450      0.149      -0.046       0.304\n",
      "etnia              0.2462      0.093      2.661      0.008       0.064       0.429\n",
      "tasa_denuncias    -0.0005      0.002     -0.245      0.807      -0.004       0.003\n",
      "==============================================================================\n",
      "Omnibus:                       36.169   Durbin-Watson:                   1.425\n",
      "Prob(Omnibus):                  0.000   Jarque-Bera (JB):               74.709\n",
      "Skew:                           0.773   Prob(JB):                     5.99e-17\n",
      "Kurtosis:                       5.326   Cond. No.                     1.42e+06\n",
      "==============================================================================\n",
      "\n",
      "Notes:\n",
      "[1] Standard Errors assume that the covariance matrix of the errors is correctly specified.\n",
      "[2] The condition number is large, 1.42e+06. This might indicate that there are\n",
      "strong multicollinearity or other numerical problems.\n"
     ]
    }
   ],
   "source": [
    "mod10 = smf.ols(formula='tasa_def ~ ingreso + prop_rural + etnia + tasa_denuncias', data=data_otras2)\n",
    "res10 = mod10.fit()\n",
    "params10 = res10.params\n",
    "print('Modelo 10: modelo regresión lineal múltiple para las comunas no pertenecientes a la Región Metropolitana\\nexcluyendo comunas sin información sobre tiempo en minutos a hospital o clínica más cercana')\n",
    "print(res10.summary())"
   ]
  },
  {
   "cell_type": "markdown",
   "id": "2de7ea61",
   "metadata": {},
   "source": [
    "Ahora bien, el modelo 11 incluye la variable tiempo en minutos al hospital o clínica más cercana, el cual indica que el coeficiente de esta variable no es significativo, por lo que no es posible afirmar que existe una asociación entre el tiempo al hospital o clínica más cercana y la tasa de defunciones por traumatismos, manteniendo las demás variables constantes. En relación al resto de las variables del modelo, solamente la proporción que se identifica con un pueblo originario tiene un efecto significativo. En cuanto a la bondad del ajuste del modelo, el R cuadrado es levemente mayor al modelo 10, y los indicadores AIC y BIC son muy similares. En cambio, respecto al modelo 10, el R cuadrado es menor, y los indicadores AIC y BIC también lo son."
   ]
  },
  {
   "cell_type": "code",
   "execution_count": 26,
   "id": "1c4c75c4",
   "metadata": {
    "scrolled": true
   },
   "outputs": [
    {
     "name": "stdout",
     "output_type": "stream",
     "text": [
      "Modelo 11: modelo regresión lineal múltiple para las comunas no pertenecientes a la Región Metropolitana\n",
      "incluyendo la variable tiempo en minutos a hospital o clínica más cercana\n",
      "                            OLS Regression Results                            \n",
      "==============================================================================\n",
      "Dep. Variable:               tasa_def   R-squared:                       0.085\n",
      "Model:                            OLS   Adj. R-squared:                  0.065\n",
      "Method:                 Least Squares   F-statistic:                     4.175\n",
      "Date:                Sun, 16 Oct 2022   Prob (F-statistic):            0.00120\n",
      "Time:                        20:33:00   Log-Likelihood:                -1087.0\n",
      "No. Observations:                 230   AIC:                             2186.\n",
      "Df Residuals:                     224   BIC:                             2207.\n",
      "Df Model:                           5                                         \n",
      "Covariance Type:            nonrobust                                         \n",
      "===================================================================================\n",
      "                      coef    std err          t      P>|t|      [0.025      0.975]\n",
      "-----------------------------------------------------------------------------------\n",
      "Intercept          55.9193     10.645      5.253      0.000      34.942      76.896\n",
      "ingreso         -3.311e-05   3.33e-05     -0.994      0.321   -9.87e-05    3.25e-05\n",
      "prop_rural          0.1876      0.096      1.959      0.051      -0.001       0.376\n",
      "etnia               0.3147      0.102      3.097      0.002       0.114       0.515\n",
      "tasa_denuncias     -0.0005      0.002     -0.234      0.815      -0.004       0.003\n",
      "tiempo_hospital    -0.0774      0.048     -1.605      0.110      -0.173       0.018\n",
      "==============================================================================\n",
      "Omnibus:                       44.072   Durbin-Watson:                   1.459\n",
      "Prob(Omnibus):                  0.000   Jarque-Bera (JB):               87.661\n",
      "Skew:                           0.950   Prob(JB):                     9.22e-20\n",
      "Kurtosis:                       5.354   Cond. No.                     1.48e+06\n",
      "==============================================================================\n",
      "\n",
      "Notes:\n",
      "[1] Standard Errors assume that the covariance matrix of the errors is correctly specified.\n",
      "[2] The condition number is large, 1.48e+06. This might indicate that there are\n",
      "strong multicollinearity or other numerical problems.\n"
     ]
    }
   ],
   "source": [
    "mod11 = smf.ols(formula='tasa_def ~ ingreso + prop_rural + etnia + tasa_denuncias + tiempo_hospital', data=data_otras2)\n",
    "res11 = mod11.fit()\n",
    "params11 = res11.params\n",
    "print('Modelo 11: modelo regresión lineal múltiple para las comunas no pertenecientes a la Región Metropolitana\\nincluyendo la variable tiempo en minutos a hospital o clínica más cercana')\n",
    "print(res11.summary())"
   ]
  },
  {
   "cell_type": "markdown",
   "id": "b8681083",
   "metadata": {},
   "source": [
    "## Conclusiones\n",
    "En el presente informe se analizó la asociación entre el nivel de ingresos, así como la proporción de población rural, proporción que se identifica con un pueblo originario, tasa de denuncias de delitos de mayor connotación social y tiempo en minutos al hospital o clínica más cercana (este último solo para comunas fuera de la Región Metropolitana), con la tasa de defunciones debido a traumatismos. Este análisis se realiza, de forma separada, para las comunas de la Región Metropolitana y para las que no pertenecen a dicha región.<br>En el caso de las comunas que pertenecen a la Región Metropolitana, el modelo escogido es el 7, el cual incluye todas las variables, transformación logarítmica para las variables ingresos y tasa de defunciones por traumatismos, y todas las comunas. Esta elección se debe a que es el segundo modelo con mejor bondad del ajuste y, si bien el modelo 9 tiene mejores indicadores de R cuadrado, AIC y BIC, excluye las cinco comunas con mejores ingresos debido a que tienen un comportamiento atípico. Por lo tanto, si bien el modelo 9 tiene mejor poder predictivo, no incluye todas las comunas de la Región Metropolitana, por lo que no es completamente representativo de la realidad de esta región.<br> Los resultados de este modelo indican que, a mayor ingreso promedio de los hogares, menor es la tasa de defunciones por traumatismos de la comuna, controlando por el resto de las variables. Esto indica que las personas de menor nivel socioeconómico tienen una mayor probabilidad de morir por causas externas, lo que podría explicar en parte la menor esperanza de vida de estas personas. Este fenómeno podría deberse a que en las comunas de menores ingresos las personas trabajan en empleos menos calificados, los cuales son más riesgosos, estando más expuestos a accidentes. Otro factor que puede incidir es que las personas de menores recursos están expuestos a ambientes más violentos y con más delincuencia. Si bien la variable tasa de denuncias de delitos de mayor connotación social no tiene un coeficiente significativo, las denuncias pueden no reflejar los delitos que realmente ocurren, ya que no todos los delitos se denuncian. Esto puede explicarse por una desconfianza en las instituciones, la cual probablemente es mayor en comunas de menores ingresos, sumado al hecho de que en la mayoría de los casos quien denuncia es la víctima y, si esta falleció, es menos probable que se denuncie.<br>En cuanto a las variables proporción que se identifica con un pueblo originario y proporción que vive en zonas rurales, el hecho de que el coeficiente no sea significativo puede deberse a que dichas proporciones son bajas. Asimismo, al vivir en la Región Metropolitana, aunque la persona viva en zonas rurales y/o se identifique con un pueblo indígena, al estar más cercano a zonas urbanas tiene mayor acceso a servicios de urgencia y, además, culturalmente son más similares a quienes viven en zonas urbanas. "
   ]
  },
  {
   "cell_type": "code",
   "execution_count": 27,
   "id": "b3d78466",
   "metadata": {},
   "outputs": [
    {
     "name": "stdout",
     "output_type": "stream",
     "text": [
      "Modelo 7: modelo regresión lineal múltiple con transformación logarítmica, para las comunas de la Región Metropolitana\n",
      "                            OLS Regression Results                            \n",
      "==============================================================================\n",
      "Dep. Variable:           tasa_def_log   R-squared:                       0.448\n",
      "Model:                            OLS   Adj. R-squared:                  0.401\n",
      "Method:                 Least Squares   F-statistic:                     9.540\n",
      "Date:                Sun, 16 Oct 2022   Prob (F-statistic):           9.90e-06\n",
      "Time:                        20:33:00   Log-Likelihood:                 1.2842\n",
      "No. Observations:                  52   AIC:                             7.432\n",
      "Df Residuals:                      47   BIC:                             17.19\n",
      "Df Model:                           4                                         \n",
      "Covariance Type:            nonrobust                                         \n",
      "==================================================================================\n",
      "                     coef    std err          t      P>|t|      [0.025      0.975]\n",
      "----------------------------------------------------------------------------------\n",
      "Intercept          8.8637      1.162      7.625      0.000       6.525      11.202\n",
      "ingreso_log       -0.4211      0.088     -4.811      0.000      -0.597      -0.245\n",
      "prop_rural        -0.0007      0.002     -0.371      0.712      -0.004       0.003\n",
      "etnia              0.0118      0.011      1.025      0.310      -0.011       0.035\n",
      "tasa_denuncias   8.31e-06   1.27e-05      0.652      0.517   -1.73e-05    3.39e-05\n",
      "==============================================================================\n",
      "Omnibus:                        0.445   Durbin-Watson:                   1.821\n",
      "Prob(Omnibus):                  0.801   Jarque-Bera (JB):                0.588\n",
      "Skew:                          -0.059   Prob(JB):                        0.745\n",
      "Kurtosis:                       2.492   Cond. No.                     1.39e+05\n",
      "==============================================================================\n",
      "\n",
      "Notes:\n",
      "[1] Standard Errors assume that the covariance matrix of the errors is correctly specified.\n",
      "[2] The condition number is large, 1.39e+05. This might indicate that there are\n",
      "strong multicollinearity or other numerical problems.\n"
     ]
    }
   ],
   "source": [
    "print('Modelo 7: modelo regresión lineal múltiple con transformación logarítmica, para las comunas de la Región Metropolitana')\n",
    "print(res7.summary())"
   ]
  },
  {
   "cell_type": "markdown",
   "id": "00a99e3e",
   "metadata": {},
   "source": [
    "En las comunas que no pertenecen a la Región Metropolitana, el modelo escogido es el modelo 6. De acuerdo con el R cuadrado, este modelo es el que mejor explica la variable tasa de defunciones, aunque según el AIC y el BIC son mejores los modelos 10 y 11. Sin embargo, estos modelos incluyen la variable tiempo en minutos al hospital o clínica más cercana, la cual no está disponible para todas las comunas, por lo que se excluyen varias y su representatividad es más acotada. Además, el coeficiente de regresión de la variable tiempo en minutos al hospital o clínica más cercana no es significativo, lo que indicaría que esta variable no es relevante en el modelo.<br>Los resultados de este modelo indican que a mayor proporción de población rural y mayor proporción de personas que se identifican con un pueblo originario, mayor tasa de mortalidad por traumatismos, manteniendo el resto de las variables constantes. En cambio, los coeficientes de las variables ingresos y tasa de denuncias de delitos de mayor connotación social, no son significativos. La asociación de la proporción de población rural y población que se identifica con pueblos originarios podría deberse a factores culturales, que inciden tanto en los riesgos a los que se ven expuestos como en la predisposición a recibir tratamientos."
   ]
  },
  {
   "cell_type": "code",
   "execution_count": 28,
   "id": "7f97894a",
   "metadata": {},
   "outputs": [
    {
     "name": "stdout",
     "output_type": "stream",
     "text": [
      "Modelo 6: modelo regresión lineal múltiple para las comunas no pertenecientes a la Región Metropolitana\n",
      "                            OLS Regression Results                            \n",
      "==============================================================================\n",
      "Dep. Variable:               tasa_def   R-squared:                       0.120\n",
      "Model:                            OLS   Adj. R-squared:                  0.107\n",
      "Method:                 Least Squares   F-statistic:                     9.107\n",
      "Date:                Sun, 16 Oct 2022   Prob (F-statistic):           6.55e-07\n",
      "Time:                        20:33:00   Log-Likelihood:                -1269.7\n",
      "No. Observations:                 272   AIC:                             2549.\n",
      "Df Residuals:                     267   BIC:                             2567.\n",
      "Df Model:                           4                                         \n",
      "Covariance Type:            nonrobust                                         \n",
      "==================================================================================\n",
      "                     coef    std err          t      P>|t|      [0.025      0.975]\n",
      "----------------------------------------------------------------------------------\n",
      "Intercept         57.3517      8.693      6.597      0.000      40.236      74.468\n",
      "ingreso        -4.632e-05   2.58e-05     -1.795      0.074   -9.71e-05    4.47e-06\n",
      "prop_rural         0.1884      0.076      2.477      0.014       0.039       0.338\n",
      "etnia              0.2441      0.085      2.858      0.005       0.076       0.412\n",
      "tasa_denuncias    -0.0005      0.002     -0.313      0.754      -0.004       0.003\n",
      "==============================================================================\n",
      "Omnibus:                       48.230   Durbin-Watson:                   1.457\n",
      "Prob(Omnibus):                  0.000   Jarque-Bera (JB):              129.120\n",
      "Skew:                           0.797   Prob(JB):                     9.16e-29\n",
      "Kurtosis:                       5.975   Cond. No.                     1.48e+06\n",
      "==============================================================================\n",
      "\n",
      "Notes:\n",
      "[1] Standard Errors assume that the covariance matrix of the errors is correctly specified.\n",
      "[2] The condition number is large, 1.48e+06. This might indicate that there are\n",
      "strong multicollinearity or other numerical problems.\n"
     ]
    }
   ],
   "source": [
    "print('Modelo 6: modelo regresión lineal múltiple para las comunas no pertenecientes a la Región Metropolitana')\n",
    "print(res6.summary())"
   ]
  },
  {
   "cell_type": "markdown",
   "id": "2954d4ee",
   "metadata": {},
   "source": [
    "Los diferentes resultados para las comunas de la Región Metropolitana y el resto del país, comprueban la hipótesis inicial de que los factores que inciden en la tasa de mortalidad pueden variar en distintas zonas del país. De este modo, dado que en la Región Metropolitana existe una alta homogeneidad intracomunal y alta heterogeneidad intercomunal, la comuna a la que pertenece una persona refleja de mejor forma su nivel socioeconómico. De este modo, el nivel socioeconómico de la comuna predice de buena forma la tasa de mortalidad por traumatismos. Esto no es así en las comunas que están fuera de la Región Metropolitana, donde la proporción de población rural y que se identifica con un pueblo originario sí tienen una asociación con la variable de interés. Lo anterior no necesariamente quiere decir que el nivel socioeconómico no influya en la probabilidad de morir por traumatismos, sino que, como los datos están a nivel de comuna, es probable que las comunas fuera de la Región Metropolitana tengan mayor heterogeneidad interna, de modo que el promedio de ingresos no logra predecir bien la tasa de mortalidad por traumatismos. Esto es consecuencia de una de las limitaciones del estudio, ya que se trabaja con datos agregados y, por ende, se puede caer en falacia ecológica (asumir que el comportamiento de todos los individuos que pertenecen a un grupo es igual). Por lo tanto, una posible línea de investigación es realizar este análisis pero con datos a nivel de persona, sin embargo, esta información puede ser difícil de obtener. Otra limitación del estudio es que se agrupa a todas las regiones que están fuera de la Metropolitana, sin embargo, no necesariamente comparten una cultura en común, por lo que también sería interesante indagar en estos aspectos. "
   ]
  },
  {
   "cell_type": "markdown",
   "id": "2a933659",
   "metadata": {},
   "source": [
    "## Bibliografía\n",
    "Bilal, U., Alazraqui, M., Caiaffa, W. T., Lopez-Olmedo, N., Martinez-Folgar, K., Miranda, J. J., Rodriguez D., Vives A. & Diez-Roux, A. V. (2019). Inequalities in life expectancy in six large Latin American cities from the SALURBAL study: an ecological analysis. The lancet planetary health, 3 (12), e503-e510.\n",
    "\n",
    "ONU. (2009). *Comisión sobre Determinantes Sociales de Salud. Informe de la Secretaría*."
   ]
  }
 ],
 "metadata": {
  "kernelspec": {
   "display_name": "Python 3 (ipykernel)",
   "language": "python",
   "name": "python3"
  },
  "language_info": {
   "codemirror_mode": {
    "name": "ipython",
    "version": 3
   },
   "file_extension": ".py",
   "mimetype": "text/x-python",
   "name": "python",
   "nbconvert_exporter": "python",
   "pygments_lexer": "ipython3",
   "version": "3.9.12"
  }
 },
 "nbformat": 4,
 "nbformat_minor": 5
}
